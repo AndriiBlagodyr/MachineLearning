{
  "nbformat": 4,
  "nbformat_minor": 0,
  "metadata": {
    "colab": {
      "name": "ML Lesson HW-1.ipynb",
      "provenance": [],
      "collapsed_sections": []
    },
    "kernelspec": {
      "name": "python3",
      "display_name": "Python 3"
    }
  },
  "cells": [
    {
      "cell_type": "markdown",
      "metadata": {
        "id": "qmpZeRhwGmqX",
        "colab_type": "text"
      },
      "source": [
        "# Introduction to supervised learning \n",
        "\n",
        "Let's practice the material we just discussed during the lecture. Please, make a copy of this colaboratory in order to be able to make changes **(File -> Save a copy in Drive)**.\n"
      ]
    },
    {
      "cell_type": "markdown",
      "metadata": {
        "id": "XqrP_NsXbOX3",
        "colab_type": "text"
      },
      "source": [
        "## Homework #1\n",
        "\n",
        "This colaboratory also contains Homework #1 which is due Feb 20 midnight (23:59 EET time). To complete the homework, extract **(File -> Download .ipynb)** and submit to the course webpage."
      ]
    },
    {
      "cell_type": "markdown",
      "metadata": {
        "id": "ZV4uCvr556Ey",
        "colab_type": "text"
      },
      "source": [
        "## Introducing Colaboratory (Colab)\n",
        "**Colaboratory**, is a great tool created by Google for individuals interested in getting a hands-on experience with Machine Learning (including Deep Learning). It offers a free CPU/**GPU** quota and a preconfigured virtual machine instance set up for to run Tensorflow and Keras libraries using a Jupyter notebook instance. **In one sentence, it is a perfect “getting started” point for experimentation with neural networks for any part-time hobbist or computer nerd**.\n",
        "\n",
        "*Introductory text by Oleg Żero (https://zerowithdot.com/colab-workspace/).*\n"
      ]
    },
    {
      "cell_type": "code",
      "metadata": {
        "id": "cMZE8eDa6ZDP",
        "colab_type": "code",
        "outputId": "eb15b771-2210-43ba-fe16-c7d98262559d",
        "colab": {
          "base_uri": "https://localhost:8080/",
          "height": 34
        }
      },
      "source": [
        "!ls"
      ],
      "execution_count": 2,
      "outputs": [
        {
          "output_type": "stream",
          "text": [
            "sample_data\n"
          ],
          "name": "stdout"
        }
      ]
    },
    {
      "cell_type": "markdown",
      "metadata": {
        "id": "_y2ZD14f9EQt",
        "colab_type": "text"
      },
      "source": [
        "## Classification with KNN on MNIST\n",
        "We shall use classical MNIST dataset to practice one of the simplest machine learning algorithms - Nearest Neighbour algorithm and its extension - K-Nearest Neighbour algorithm. MNIST stands for Mixed National Institute of Standards and Technology and contains almost 60,000 small square 28×28 pixel grayscale images of digits from 0 to 9. Let's load it!"
      ]
    },
    {
      "cell_type": "markdown",
      "metadata": {
        "id": "NJIhqUhr40Ks",
        "colab_type": "text"
      },
      "source": [
        "### Setup: \n",
        "Here we will load necessary libraries (NumPy, Pandas and loading and visualising MNIST handwritten digits "
      ]
    },
    {
      "cell_type": "code",
      "metadata": {
        "id": "bqp9Kj1g4yFb",
        "colab_type": "code",
        "outputId": "b4a03ce3-0a27-4079-9285-e714d779523b",
        "colab": {
          "base_uri": "https://localhost:8080/",
          "height": 62
        }
      },
      "source": [
        "import numpy as np \n",
        "import pandas as pd\n",
        "import matplotlib.pyplot as plt\n",
        "\n",
        "import warnings\n",
        "warnings.filterwarnings('ignore', category = RuntimeWarning)\n",
        "\n",
        "import os\n",
        "\n",
        "from tensorflow.examples.tutorials.mnist import input_data"
      ],
      "execution_count": 3,
      "outputs": [
        {
          "output_type": "display_data",
          "data": {
            "text/html": [
              "<p style=\"color: red;\">\n",
              "The default version of TensorFlow in Colab will soon switch to TensorFlow 2.x.<br>\n",
              "We recommend you <a href=\"https://www.tensorflow.org/guide/migrate\" target=\"_blank\">upgrade</a> now \n",
              "or ensure your notebook will continue to use TensorFlow 1.x via the <code>%tensorflow_version 1.x</code> magic:\n",
              "<a href=\"https://colab.research.google.com/notebooks/tensorflow_version.ipynb\" target=\"_blank\">more info</a>.</p>\n"
            ],
            "text/plain": [
              "<IPython.core.display.HTML object>"
            ]
          },
          "metadata": {
            "tags": []
          }
        }
      ]
    },
    {
      "cell_type": "code",
      "metadata": {
        "id": "KEmje5XZ5JBU",
        "colab_type": "code",
        "outputId": "012ea2db-1180-4693-b6f9-37f56b03e07d",
        "colab": {
          "base_uri": "https://localhost:8080/",
          "height": 474
        }
      },
      "source": [
        "mnist = input_data.read_data_sets(\"MNIST_data/\", one_hot=False)"
      ],
      "execution_count": 4,
      "outputs": [
        {
          "output_type": "stream",
          "text": [
            "WARNING:tensorflow:From <ipython-input-4-f9584ef0ae80>:1: read_data_sets (from tensorflow.contrib.learn.python.learn.datasets.mnist) is deprecated and will be removed in a future version.\n",
            "Instructions for updating:\n",
            "Please use alternatives such as official/mnist/dataset.py from tensorflow/models.\n",
            "WARNING:tensorflow:From /usr/local/lib/python3.6/dist-packages/tensorflow_core/contrib/learn/python/learn/datasets/mnist.py:260: maybe_download (from tensorflow.contrib.learn.python.learn.datasets.base) is deprecated and will be removed in a future version.\n",
            "Instructions for updating:\n",
            "Please write your own downloading logic.\n",
            "WARNING:tensorflow:From /usr/local/lib/python3.6/dist-packages/tensorflow_core/contrib/learn/python/learn/datasets/base.py:252: _internal_retry.<locals>.wrap.<locals>.wrapped_fn (from tensorflow.contrib.learn.python.learn.datasets.base) is deprecated and will be removed in a future version.\n",
            "Instructions for updating:\n",
            "Please use urllib or similar directly.\n",
            "Successfully downloaded train-images-idx3-ubyte.gz 9912422 bytes.\n",
            "WARNING:tensorflow:From /usr/local/lib/python3.6/dist-packages/tensorflow_core/contrib/learn/python/learn/datasets/mnist.py:262: extract_images (from tensorflow.contrib.learn.python.learn.datasets.mnist) is deprecated and will be removed in a future version.\n",
            "Instructions for updating:\n",
            "Please use tf.data to implement this functionality.\n",
            "Extracting MNIST_data/train-images-idx3-ubyte.gz\n",
            "Successfully downloaded train-labels-idx1-ubyte.gz 28881 bytes.\n",
            "WARNING:tensorflow:From /usr/local/lib/python3.6/dist-packages/tensorflow_core/contrib/learn/python/learn/datasets/mnist.py:267: extract_labels (from tensorflow.contrib.learn.python.learn.datasets.mnist) is deprecated and will be removed in a future version.\n",
            "Instructions for updating:\n",
            "Please use tf.data to implement this functionality.\n",
            "Extracting MNIST_data/train-labels-idx1-ubyte.gz\n",
            "Successfully downloaded t10k-images-idx3-ubyte.gz 1648877 bytes.\n",
            "Extracting MNIST_data/t10k-images-idx3-ubyte.gz\n",
            "Successfully downloaded t10k-labels-idx1-ubyte.gz 4542 bytes.\n",
            "Extracting MNIST_data/t10k-labels-idx1-ubyte.gz\n",
            "WARNING:tensorflow:From /usr/local/lib/python3.6/dist-packages/tensorflow_core/contrib/learn/python/learn/datasets/mnist.py:290: DataSet.__init__ (from tensorflow.contrib.learn.python.learn.datasets.mnist) is deprecated and will be removed in a future version.\n",
            "Instructions for updating:\n",
            "Please use alternatives such as official/mnist/dataset.py from tensorflow/models.\n"
          ],
          "name": "stdout"
        }
      ]
    },
    {
      "cell_type": "code",
      "metadata": {
        "id": "cZzoTvgS6XQH",
        "colab_type": "code",
        "outputId": "cce9303b-f949-429f-ecfe-b14428e45e69",
        "colab": {
          "base_uri": "https://localhost:8080/",
          "height": 34
        }
      },
      "source": [
        "!ls"
      ],
      "execution_count": 5,
      "outputs": [
        {
          "output_type": "stream",
          "text": [
            "MNIST_data  sample_data\n"
          ],
          "name": "stdout"
        }
      ]
    },
    {
      "cell_type": "markdown",
      "metadata": {
        "id": "uuGg44WglSCR",
        "colab_type": "text"
      },
      "source": [
        "We reshape 28x28 images into vectors of size 784 to decrease the dimensionality of the training data matrix."
      ]
    },
    {
      "cell_type": "code",
      "metadata": {
        "id": "WtOd4fiY5K_R",
        "colab_type": "code",
        "outputId": "6c1f6c7b-3c37-4265-de3c-e201eead55ac",
        "colab": {
          "base_uri": "https://localhost:8080/",
          "height": 34
        }
      },
      "source": [
        "images = np.vstack([img.reshape(-1,) for img in mnist.train.images])\n",
        "labels = mnist.train.labels\n",
        "print(f\"images are of shape: {images.shape} and labels: {labels.shape}\")"
      ],
      "execution_count": 6,
      "outputs": [
        {
          "output_type": "stream",
          "text": [
            "images are of shape: (55000, 784) and labels: (55000,)\n"
          ],
          "name": "stdout"
        }
      ]
    },
    {
      "cell_type": "markdown",
      "metadata": {
        "id": "6pjoMXl362uf",
        "colab_type": "text"
      },
      "source": [
        "### Visualising MNIST"
      ]
    },
    {
      "cell_type": "code",
      "metadata": {
        "id": "ukpUqfgl4S3j",
        "colab_type": "code",
        "outputId": "9932df45-ae72-43f4-f2c5-694f33514524",
        "colab": {
          "base_uri": "https://localhost:8080/",
          "height": 1000
        }
      },
      "source": [
        "images[0,:]"
      ],
      "execution_count": 7,
      "outputs": [
        {
          "output_type": "execute_result",
          "data": {
            "text/plain": [
              "array([0.        , 0.        , 0.        , 0.        , 0.        ,\n",
              "       0.        , 0.        , 0.        , 0.        , 0.        ,\n",
              "       0.        , 0.        , 0.        , 0.        , 0.        ,\n",
              "       0.        , 0.        , 0.        , 0.        , 0.        ,\n",
              "       0.        , 0.        , 0.        , 0.        , 0.        ,\n",
              "       0.        , 0.        , 0.        , 0.        , 0.        ,\n",
              "       0.        , 0.        , 0.        , 0.        , 0.        ,\n",
              "       0.        , 0.        , 0.        , 0.        , 0.        ,\n",
              "       0.        , 0.        , 0.        , 0.        , 0.        ,\n",
              "       0.        , 0.        , 0.        , 0.        , 0.        ,\n",
              "       0.        , 0.        , 0.        , 0.        , 0.        ,\n",
              "       0.        , 0.        , 0.        , 0.        , 0.        ,\n",
              "       0.        , 0.        , 0.        , 0.        , 0.        ,\n",
              "       0.        , 0.        , 0.        , 0.        , 0.        ,\n",
              "       0.        , 0.        , 0.        , 0.        , 0.        ,\n",
              "       0.        , 0.        , 0.        , 0.        , 0.        ,\n",
              "       0.        , 0.        , 0.        , 0.        , 0.        ,\n",
              "       0.        , 0.        , 0.        , 0.        , 0.        ,\n",
              "       0.        , 0.        , 0.        , 0.        , 0.        ,\n",
              "       0.        , 0.        , 0.        , 0.        , 0.        ,\n",
              "       0.        , 0.        , 0.        , 0.        , 0.        ,\n",
              "       0.        , 0.        , 0.        , 0.        , 0.        ,\n",
              "       0.        , 0.        , 0.        , 0.        , 0.        ,\n",
              "       0.        , 0.        , 0.        , 0.        , 0.        ,\n",
              "       0.        , 0.        , 0.        , 0.        , 0.        ,\n",
              "       0.        , 0.        , 0.        , 0.        , 0.        ,\n",
              "       0.        , 0.        , 0.        , 0.        , 0.        ,\n",
              "       0.        , 0.        , 0.        , 0.        , 0.        ,\n",
              "       0.        , 0.        , 0.        , 0.        , 0.        ,\n",
              "       0.        , 0.        , 0.        , 0.        , 0.        ,\n",
              "       0.        , 0.        , 0.        , 0.        , 0.        ,\n",
              "       0.        , 0.        , 0.        , 0.        , 0.        ,\n",
              "       0.        , 0.        , 0.        , 0.        , 0.        ,\n",
              "       0.        , 0.        , 0.        , 0.        , 0.        ,\n",
              "       0.        , 0.        , 0.        , 0.        , 0.        ,\n",
              "       0.        , 0.        , 0.        , 0.        , 0.        ,\n",
              "       0.        , 0.        , 0.        , 0.        , 0.        ,\n",
              "       0.        , 0.        , 0.        , 0.        , 0.        ,\n",
              "       0.        , 0.        , 0.        , 0.        , 0.        ,\n",
              "       0.        , 0.        , 0.        , 0.        , 0.        ,\n",
              "       0.        , 0.        , 0.        , 0.        , 0.        ,\n",
              "       0.        , 0.        , 0.3803922 , 0.37647063, 0.3019608 ,\n",
              "       0.46274513, 0.2392157 , 0.        , 0.        , 0.        ,\n",
              "       0.        , 0.        , 0.        , 0.        , 0.        ,\n",
              "       0.        , 0.        , 0.        , 0.        , 0.        ,\n",
              "       0.        , 0.        , 0.3529412 , 0.5411765 , 0.9215687 ,\n",
              "       0.9215687 , 0.9215687 , 0.9215687 , 0.9215687 , 0.9215687 ,\n",
              "       0.9843138 , 0.9843138 , 0.9725491 , 0.9960785 , 0.9607844 ,\n",
              "       0.9215687 , 0.74509805, 0.08235294, 0.        , 0.        ,\n",
              "       0.        , 0.        , 0.        , 0.        , 0.        ,\n",
              "       0.        , 0.        , 0.        , 0.        , 0.54901963,\n",
              "       0.9843138 , 0.9960785 , 0.9960785 , 0.9960785 , 0.9960785 ,\n",
              "       0.9960785 , 0.9960785 , 0.9960785 , 0.9960785 , 0.9960785 ,\n",
              "       0.9960785 , 0.9960785 , 0.9960785 , 0.9960785 , 0.9960785 ,\n",
              "       0.7411765 , 0.09019608, 0.        , 0.        , 0.        ,\n",
              "       0.        , 0.        , 0.        , 0.        , 0.        ,\n",
              "       0.        , 0.        , 0.8862746 , 0.9960785 , 0.81568635,\n",
              "       0.7803922 , 0.7803922 , 0.7803922 , 0.7803922 , 0.54509807,\n",
              "       0.2392157 , 0.2392157 , 0.2392157 , 0.2392157 , 0.2392157 ,\n",
              "       0.5019608 , 0.8705883 , 0.9960785 , 0.9960785 , 0.7411765 ,\n",
              "       0.08235294, 0.        , 0.        , 0.        , 0.        ,\n",
              "       0.        , 0.        , 0.        , 0.        , 0.        ,\n",
              "       0.14901961, 0.32156864, 0.0509804 , 0.        , 0.        ,\n",
              "       0.        , 0.        , 0.        , 0.        , 0.        ,\n",
              "       0.        , 0.        , 0.        , 0.        , 0.13333334,\n",
              "       0.8352942 , 0.9960785 , 0.9960785 , 0.45098042, 0.        ,\n",
              "       0.        , 0.        , 0.        , 0.        , 0.        ,\n",
              "       0.        , 0.        , 0.        , 0.        , 0.        ,\n",
              "       0.        , 0.        , 0.        , 0.        , 0.        ,\n",
              "       0.        , 0.        , 0.        , 0.        , 0.        ,\n",
              "       0.        , 0.        , 0.        , 0.32941177, 0.9960785 ,\n",
              "       0.9960785 , 0.9176471 , 0.        , 0.        , 0.        ,\n",
              "       0.        , 0.        , 0.        , 0.        , 0.        ,\n",
              "       0.        , 0.        , 0.        , 0.        , 0.        ,\n",
              "       0.        , 0.        , 0.        , 0.        , 0.        ,\n",
              "       0.        , 0.        , 0.        , 0.        , 0.        ,\n",
              "       0.        , 0.32941177, 0.9960785 , 0.9960785 , 0.9176471 ,\n",
              "       0.        , 0.        , 0.        , 0.        , 0.        ,\n",
              "       0.        , 0.        , 0.        , 0.        , 0.        ,\n",
              "       0.        , 0.        , 0.        , 0.        , 0.        ,\n",
              "       0.        , 0.        , 0.        , 0.        , 0.        ,\n",
              "       0.        , 0.        , 0.        , 0.4156863 , 0.6156863 ,\n",
              "       0.9960785 , 0.9960785 , 0.95294124, 0.20000002, 0.        ,\n",
              "       0.        , 0.        , 0.        , 0.        , 0.        ,\n",
              "       0.        , 0.        , 0.        , 0.        , 0.        ,\n",
              "       0.        , 0.        , 0.        , 0.        , 0.        ,\n",
              "       0.        , 0.09803922, 0.45882356, 0.8941177 , 0.8941177 ,\n",
              "       0.8941177 , 0.9921569 , 0.9960785 , 0.9960785 , 0.9960785 ,\n",
              "       0.9960785 , 0.94117653, 0.        , 0.        , 0.        ,\n",
              "       0.        , 0.        , 0.        , 0.        , 0.        ,\n",
              "       0.        , 0.        , 0.        , 0.        , 0.        ,\n",
              "       0.        , 0.        , 0.26666668, 0.4666667 , 0.86274517,\n",
              "       0.9960785 , 0.9960785 , 0.9960785 , 0.9960785 , 0.9960785 ,\n",
              "       0.9960785 , 0.9960785 , 0.9960785 , 0.9960785 , 0.5568628 ,\n",
              "       0.        , 0.        , 0.        , 0.        , 0.        ,\n",
              "       0.        , 0.        , 0.        , 0.        , 0.        ,\n",
              "       0.        , 0.        , 0.        , 0.14509805, 0.73333335,\n",
              "       0.9921569 , 0.9960785 , 0.9960785 , 0.9960785 , 0.8745099 ,\n",
              "       0.8078432 , 0.8078432 , 0.29411766, 0.26666668, 0.8431373 ,\n",
              "       0.9960785 , 0.9960785 , 0.45882356, 0.        , 0.        ,\n",
              "       0.        , 0.        , 0.        , 0.        , 0.        ,\n",
              "       0.        , 0.        , 0.        , 0.        , 0.        ,\n",
              "       0.4431373 , 0.8588236 , 0.9960785 , 0.9490197 , 0.89019614,\n",
              "       0.45098042, 0.34901962, 0.12156864, 0.        , 0.        ,\n",
              "       0.        , 0.        , 0.7843138 , 0.9960785 , 0.9450981 ,\n",
              "       0.16078432, 0.        , 0.        , 0.        , 0.        ,\n",
              "       0.        , 0.        , 0.        , 0.        , 0.        ,\n",
              "       0.        , 0.        , 0.        , 0.6627451 , 0.9960785 ,\n",
              "       0.6901961 , 0.24313727, 0.        , 0.        , 0.        ,\n",
              "       0.        , 0.        , 0.        , 0.        , 0.18823531,\n",
              "       0.9058824 , 0.9960785 , 0.9176471 , 0.        , 0.        ,\n",
              "       0.        , 0.        , 0.        , 0.        , 0.        ,\n",
              "       0.        , 0.        , 0.        , 0.        , 0.        ,\n",
              "       0.        , 0.07058824, 0.48627454, 0.        , 0.        ,\n",
              "       0.        , 0.        , 0.        , 0.        , 0.        ,\n",
              "       0.        , 0.        , 0.32941177, 0.9960785 , 0.9960785 ,\n",
              "       0.6509804 , 0.        , 0.        , 0.        , 0.        ,\n",
              "       0.        , 0.        , 0.        , 0.        , 0.        ,\n",
              "       0.        , 0.        , 0.        , 0.        , 0.        ,\n",
              "       0.        , 0.        , 0.        , 0.        , 0.        ,\n",
              "       0.        , 0.        , 0.        , 0.        , 0.        ,\n",
              "       0.54509807, 0.9960785 , 0.9333334 , 0.22352943, 0.        ,\n",
              "       0.        , 0.        , 0.        , 0.        , 0.        ,\n",
              "       0.        , 0.        , 0.        , 0.        , 0.        ,\n",
              "       0.        , 0.        , 0.        , 0.        , 0.        ,\n",
              "       0.        , 0.        , 0.        , 0.        , 0.        ,\n",
              "       0.        , 0.        , 0.8235295 , 0.9803922 , 0.9960785 ,\n",
              "       0.65882355, 0.        , 0.        , 0.        , 0.        ,\n",
              "       0.        , 0.        , 0.        , 0.        , 0.        ,\n",
              "       0.        , 0.        , 0.        , 0.        , 0.        ,\n",
              "       0.        , 0.        , 0.        , 0.        , 0.        ,\n",
              "       0.        , 0.        , 0.        , 0.        , 0.        ,\n",
              "       0.9490197 , 0.9960785 , 0.93725497, 0.22352943, 0.        ,\n",
              "       0.        , 0.        , 0.        , 0.        , 0.        ,\n",
              "       0.        , 0.        , 0.        , 0.        , 0.        ,\n",
              "       0.        , 0.        , 0.        , 0.        , 0.        ,\n",
              "       0.        , 0.        , 0.        , 0.        , 0.        ,\n",
              "       0.        , 0.        , 0.34901962, 0.9843138 , 0.9450981 ,\n",
              "       0.3372549 , 0.        , 0.        , 0.        , 0.        ,\n",
              "       0.        , 0.        , 0.        , 0.        , 0.        ,\n",
              "       0.        , 0.        , 0.        , 0.        , 0.        ,\n",
              "       0.        , 0.        , 0.        , 0.        , 0.        ,\n",
              "       0.        , 0.        , 0.        , 0.        , 0.01960784,\n",
              "       0.8078432 , 0.96470594, 0.6156863 , 0.        , 0.        ,\n",
              "       0.        , 0.        , 0.        , 0.        , 0.        ,\n",
              "       0.        , 0.        , 0.        , 0.        , 0.        ,\n",
              "       0.        , 0.        , 0.        , 0.        , 0.        ,\n",
              "       0.        , 0.        , 0.        , 0.        , 0.        ,\n",
              "       0.        , 0.        , 0.01568628, 0.45882356, 0.27058825,\n",
              "       0.        , 0.        , 0.        , 0.        , 0.        ,\n",
              "       0.        , 0.        , 0.        , 0.        , 0.        ,\n",
              "       0.        , 0.        , 0.        , 0.        , 0.        ,\n",
              "       0.        , 0.        , 0.        , 0.        , 0.        ,\n",
              "       0.        , 0.        , 0.        , 0.        , 0.        ,\n",
              "       0.        , 0.        , 0.        , 0.        , 0.        ,\n",
              "       0.        , 0.        , 0.        , 0.        , 0.        ,\n",
              "       0.        , 0.        , 0.        , 0.        ], dtype=float32)"
            ]
          },
          "metadata": {
            "tags": []
          },
          "execution_count": 7
        }
      ]
    },
    {
      "cell_type": "code",
      "metadata": {
        "id": "5Lz7Z0w164wa",
        "colab_type": "code",
        "outputId": "fc436707-bc8d-426f-eed2-f85369461a13",
        "colab": {
          "base_uri": "https://localhost:8080/",
          "height": 248
        }
      },
      "source": [
        "# Let's resize and plot the first image\n",
        "img_matrix = images[0,:].reshape((28, 28))\n",
        "plt.imshow(img_matrix, plt.get_cmap('gray'));\n",
        "plt.axis('off')\n",
        "plt.show()"
      ],
      "execution_count": 8,
      "outputs": [
        {
          "output_type": "display_data",
          "data": {
            "image/png": "[encoded data removed]",
            "text/plain": [
              "<Figure size 432x288 with 1 Axes>"
            ]
          },
          "metadata": {
            "tags": []
          }
        }
      ]
    },
    {
      "cell_type": "markdown",
      "metadata": {
        "id": "IhZI1zCV8MIB",
        "colab_type": "text"
      },
      "source": [
        "What is the label of this image?"
      ]
    },
    {
      "cell_type": "code",
      "metadata": {
        "id": "zyNG9jTt8Qyu",
        "colab_type": "code",
        "outputId": "dbed4347-8601-48ff-9c81-826aea36836a",
        "colab": {
          "base_uri": "https://localhost:8080/",
          "height": 34
        }
      },
      "source": [
        "print (f\"Correct label of the first image is: {labels[0]}\")"
      ],
      "execution_count": 9,
      "outputs": [
        {
          "output_type": "stream",
          "text": [
            "Correct label of the first image is: 7\n"
          ],
          "name": "stdout"
        }
      ]
    },
    {
      "cell_type": "markdown",
      "metadata": {
        "id": "X3bKSXt28y8T",
        "colab_type": "text"
      },
      "source": [
        "### Subsampling\n",
        "\n",
        "Although, in practice you typically want to use as much data as possible to train your models, large datasets are not very suitable for experimenting and visualization -- it is just too annoying to have to wait minutes for each step to continue. Thus, 60000 examples is a bit too much for our purposes, so why not to sample just 2000."
      ]
    },
    {
      "cell_type": "code",
      "metadata": {
        "id": "SDDMSi-29R72",
        "colab_type": "code",
        "colab": {}
      },
      "source": [
        "train_images = images[0:2000,:]\n",
        "train_labels = labels[0:2000]\n",
        "\n",
        "test_images = images[2000:3000,:]\n",
        "test_labels = labels[2000:3000]"
      ],
      "execution_count": 0,
      "outputs": []
    },
    {
      "cell_type": "code",
      "metadata": {
        "id": "U01rOKxi9S8K",
        "colab_type": "code",
        "outputId": "e8189bd1-668e-443e-d95c-ebe2ae20dee3",
        "colab": {
          "base_uri": "https://localhost:8080/",
          "height": 265
        }
      },
      "source": [
        "# We should make sure that the distribution is more or less uniform across our samples\n",
        "plt.hist(train_labels);"
      ],
      "execution_count": 11,
      "outputs": [
        {
          "output_type": "display_data",
          "data": {
            "image/png": "[encoded data removed]",
            "text/plain": [
              "<Figure size 432x288 with 1 Axes>"
            ]
          },
          "metadata": {
            "tags": []
          }
        }
      ]
    },
    {
      "cell_type": "markdown",
      "metadata": {
        "id": "vqX3QBjzpOhl",
        "colab_type": "text"
      },
      "source": [
        "Let's see some more examples from all classes."
      ]
    },
    {
      "cell_type": "code",
      "metadata": {
        "id": "2quhKyr2pOhl",
        "colab_type": "code",
        "outputId": "0eadf1ec-79f5-4a75-ebae-d2acf59ea239",
        "colab": {
          "base_uri": "https://localhost:8080/",
          "height": 476
        }
      },
      "source": [
        "plt.rcParams['figure.figsize'] = (10.0, 8.0) # set default size of plots\n",
        "# \"Names\" of classes:\n",
        "classes =  ['0', '1', '2', '3', '4', '5', '6', '7', '8', '9']\n",
        "\n",
        "num_classes = len(classes)\n",
        "samples_per_class = 7 # Number of images from each class we want to see\n",
        "for y, cls in enumerate(classes):\n",
        "    idxs = np.flatnonzero(train_labels == y)\n",
        "    idxs = np.random.choice(idxs, samples_per_class, replace=False)\n",
        "    for i, idx in enumerate(idxs):\n",
        "        plt_idx = i * num_classes + y + 1\n",
        "        plt.subplot(samples_per_class, num_classes, plt_idx)\n",
        "        plt.imshow(train_images[idx].reshape((28, 28)), plt.get_cmap('gray'))\n",
        "        plt.axis('off')\n",
        "        if i == 0:\n",
        "            plt.title(cls)\n",
        "plt.show()"
      ],
      "execution_count": 12,
      "outputs": [
        {
          "output_type": "display_data",
          "data": {
            "image/png": "[encoded data removed]",
            "text/plain": [
              "<Figure size 720x576 with 70 Axes>"
            ]
          },
          "metadata": {
            "tags": []
          }
        }
      ]
    },
    {
      "cell_type": "markdown",
      "metadata": {
        "id": "eQH4v-HBeqCX",
        "colab_type": "text"
      },
      "source": [
        "**Classroom exercise**: Let's define a distance function, let it be Eucledian distance (L2)"
      ]
    },
    {
      "cell_type": "code",
      "metadata": {
        "id": "SGcd0I9teqCY",
        "colab_type": "code",
        "colab": {}
      },
      "source": [
        "from scipy.spatial import distance\n",
        "def dist(img1, img2):\n",
        "  ##### YOUR CODE STARTS #####\n",
        "  return(np.sqrt(np.sum((img1 - img2)**2)))\n",
        "  ##### YOUR CODE ENDS ##### (please do not delete this line)"
      ],
      "execution_count": 0,
      "outputs": []
    },
    {
      "cell_type": "markdown",
      "metadata": {
        "id": "3yZpyMGQ2vtJ",
        "colab_type": "text"
      },
      "source": [
        "Check the validity of the function here:"
      ]
    },
    {
      "cell_type": "code",
      "metadata": {
        "id": "DGzbw4iDy2q8",
        "colab_type": "code",
        "outputId": "0ece10b2-d0ae-4cdb-9cc0-b96bd7a53e47",
        "colab": {
          "base_uri": "https://localhost:8080/",
          "height": 34
        }
      },
      "source": [
        "print(f\"Distance between first two images is {dist(train_images[0], train_images[1])} and should be about 11.858\")"
      ],
      "execution_count": 14,
      "outputs": [
        {
          "output_type": "stream",
          "text": [
            "Distance between first two images is 11.85839557647705 and should be about 11.858\n"
          ],
          "name": "stdout"
        }
      ]
    },
    {
      "cell_type": "markdown",
      "metadata": {
        "id": "_2mAqlYAeqCc",
        "colab_type": "text"
      },
      "source": [
        "You can play with the defined function below. Check that the distance between images of the same digit is typically smaller than the distance between images of different digits."
      ]
    },
    {
      "cell_type": "code",
      "metadata": {
        "id": "yv5jbMDIeqCd",
        "colab_type": "code",
        "outputId": "47ece309-8f0b-49c8-8461-3c7d7ff8c0e6",
        "colab": {
          "base_uri": "https://localhost:8080/",
          "height": 50
        }
      },
      "source": [
        "print(f\"Distance between image with a class {train_labels[1]} and class {train_labels[3]} is {dist(train_images[1], train_images[3])}\")\n",
        "print(f\"Distance between image with a class {train_labels[1]} and class {train_labels[11]} is {dist(train_images[1], train_images[11])}\")"
      ],
      "execution_count": 15,
      "outputs": [
        {
          "output_type": "stream",
          "text": [
            "Distance between image with a class 3 and class 6 is 10.872645378112793\n",
            "Distance between image with a class 3 and class 3 is 8.07426929473877\n"
          ],
          "name": "stdout"
        }
      ]
    },
    {
      "cell_type": "markdown",
      "metadata": {
        "id": "Q1OhO80neqCg",
        "colab_type": "text"
      },
      "source": [
        "Now the actual algorithm. It consists of three steps.\n",
        "\n",
        "1. Compute distances to all points in the dataset\n",
        "2. Find the closest point, and \n",
        "3. Report the corresponding label.\n",
        "\n",
        "**Classroom exercise**: Implement the three steps.\n",
        "\n",
        "We shall do it gently. First we pick a sample image that we will be classifying. Let us say that the first image from the `test_images` is an unknown image sent by our friend:"
      ]
    },
    {
      "cell_type": "code",
      "metadata": {
        "id": "XZUcvMUkdizm",
        "colab_type": "code",
        "colab": {}
      },
      "source": [
        "test_image = test_images[0]\n",
        "test_label = test_labels[0]"
      ],
      "execution_count": 0,
      "outputs": []
    },
    {
      "cell_type": "code",
      "metadata": {
        "id": "XUREtv7yeqCh",
        "colab_type": "code",
        "outputId": "695a5022-beba-445d-fb61-04cdb02ece21",
        "colab": {
          "base_uri": "https://localhost:8080/",
          "height": 466
        }
      },
      "source": [
        "img_matrix = test_image.reshape((28, 28))\n",
        "plt.imshow(img_matrix, plt.get_cmap('gray'));\n",
        "plt.axis('off')\n",
        "plt.show()"
      ],
      "execution_count": 17,
      "outputs": [
        {
          "output_type": "display_data",
          "data": {
            "image/png": "[encoded data removed]",
            "text/plain": [
              "<Figure size 720x576 with 1 Axes>"
            ]
          },
          "metadata": {
            "tags": []
          }
        }
      ]
    },
    {
      "cell_type": "markdown",
      "metadata": {
        "id": "K5C5pdgYeqCk",
        "colab_type": "text"
      },
      "source": [
        "**Classroom exercise:** compute all distances from the `test_image` to the `train_images` in the dataset"
      ]
    },
    {
      "cell_type": "code",
      "metadata": {
        "id": "-wSVGX-ZeqCk",
        "colab_type": "code",
        "outputId": "71073eea-a475-4d60-e43b-40df0f516334",
        "colab": {
          "base_uri": "https://localhost:8080/",
          "height": 185
        }
      },
      "source": [
        "##### YOUR CODE STARTS #####\n",
        "all_distances = [dist(test_image, image) for image in train_images]\n",
        "##### YOUR CODE ENDS ##### (please do not delete this line)\n",
        "all_distances[0:10]"
      ],
      "execution_count": 18,
      "outputs": [
        {
          "output_type": "execute_result",
          "data": {
            "text/plain": [
              "[10.115574,\n",
              " 9.505396,\n",
              " 9.084774,\n",
              " 9.745117,\n",
              " 8.398525,\n",
              " 10.036598,\n",
              " 8.108698,\n",
              " 12.021775,\n",
              " 8.693264,\n",
              " 9.883018]"
            ]
          },
          "metadata": {
            "tags": []
          },
          "execution_count": 18
        }
      ]
    },
    {
      "cell_type": "markdown",
      "metadata": {
        "id": "NmGWAy6seqCm",
        "colab_type": "text"
      },
      "source": [
        "Now let's find out which image is closest to our `test_image`"
      ]
    },
    {
      "cell_type": "code",
      "metadata": {
        "id": "fF6B4I-beqCn",
        "colab_type": "code",
        "colab": {}
      },
      "source": [
        "i = np.argmin(all_distances)"
      ],
      "execution_count": 0,
      "outputs": []
    },
    {
      "cell_type": "markdown",
      "metadata": {
        "id": "tuM8j03ueqCq",
        "colab_type": "text"
      },
      "source": [
        "Almost done, now report a label with index `i` in `train_labels`"
      ]
    },
    {
      "cell_type": "code",
      "metadata": {
        "id": "x6CEvuHEeqCq",
        "colab_type": "code",
        "colab": {}
      },
      "source": [
        "predicted_label = train_labels[i]"
      ],
      "execution_count": 0,
      "outputs": []
    },
    {
      "cell_type": "markdown",
      "metadata": {
        "id": "gPqeP2-reqCt",
        "colab_type": "text"
      },
      "source": [
        "Compare it to the true label of the first image in the `train_labels`"
      ]
    },
    {
      "cell_type": "code",
      "metadata": {
        "id": "rCn1qwKoeqCz",
        "colab_type": "code",
        "outputId": "c28e6b41-26fd-4cee-d1c6-8987fa18a902",
        "colab": {
          "base_uri": "https://localhost:8080/",
          "height": 34
        }
      },
      "source": [
        "print(f\"Predicted class for the first image is {predicted_label} and the true label is {test_label}\")"
      ],
      "execution_count": 21,
      "outputs": [
        {
          "output_type": "stream",
          "text": [
            "Predicted class for the first image is 8 and the true label is 8\n"
          ],
          "name": "stdout"
        }
      ]
    },
    {
      "cell_type": "markdown",
      "metadata": {
        "id": "JmMSNVMqfgjk",
        "colab_type": "text"
      },
      "source": [
        "Here we can visualise the nearest in terms of the Eucledian distance image from the `train_images`"
      ]
    },
    {
      "cell_type": "code",
      "metadata": {
        "id": "Vhdry7k2eqC1",
        "colab_type": "code",
        "outputId": "36513672-11de-48b4-8b95-13644543d9b7",
        "colab": {
          "base_uri": "https://localhost:8080/",
          "height": 466
        }
      },
      "source": [
        "img_matrix = train_images[i,:].reshape((28, 28))\n",
        "plt.imshow(img_matrix, plt.get_cmap('gray'));\n",
        "plt.axis('off')\n",
        "plt.show()"
      ],
      "execution_count": 22,
      "outputs": [
        {
          "output_type": "display_data",
          "data": {
            "image/png": "[encoded data removed]",
            "text/plain": [
              "<Figure size 720x576 with 1 Axes>"
            ]
          },
          "metadata": {
            "tags": []
          }
        }
      ]
    },
    {
      "cell_type": "markdown",
      "metadata": {
        "id": "mKBRz8GNeqC4",
        "colab_type": "text"
      },
      "source": [
        "**Classroom exercise:** Now we should make a function out of the code we have already written. "
      ]
    },
    {
      "cell_type": "code",
      "metadata": {
        "id": "V50nuLureqC5",
        "colab_type": "code",
        "colab": {}
      },
      "source": [
        "def classify(image):\n",
        "  ##### YOUR CODE STARTS #####\n",
        "  all_distances = [dist(image, img) for img in train_images]\n",
        "  prediction =  train_labels[np.argmin(all_distances)]\n",
        "  ##### YOUR CODE ENDS ##### (please do not delete this line)\n",
        "  return prediction"
      ],
      "execution_count": 0,
      "outputs": []
    },
    {
      "cell_type": "markdown",
      "metadata": {
        "id": "lf4oXlzteqC8",
        "colab_type": "text"
      },
      "source": [
        "Let's test this function to verify that it works"
      ]
    },
    {
      "cell_type": "code",
      "metadata": {
        "id": "T0_npOGYeqC-",
        "colab_type": "code",
        "outputId": "4550fc15-6f5f-4ba0-e19a-ad6fe7e952eb",
        "colab": {
          "base_uri": "https://localhost:8080/",
          "height": 34
        }
      },
      "source": [
        "print(f\"Predicted class for the first image is {classify(test_image)} and the true label is {test_label}\")"
      ],
      "execution_count": 24,
      "outputs": [
        {
          "output_type": "stream",
          "text": [
            "Predicted class for the first image is 8 and the true label is 8\n"
          ],
          "name": "stdout"
        }
      ]
    },
    {
      "cell_type": "markdown",
      "metadata": {
        "id": "8s9g__SbqW30",
        "colab_type": "text"
      },
      "source": [
        "One very popular variation of Nearest Neighbour is K-nearest neighbour. In this algorithm a label for a new instance is chosen by majority vote by **`k`** of its nearest neighbors. \n",
        "\n",
        "The actual algorithm is not very different from vanila nearest neighbour:\n",
        "\n",
        "1. Compute distances to all points in the dataset\n",
        "2. Find the **`k`** closest points (you may consider using `np.argsort` function)\n",
        "3. Report the most popular label from these **`k`**. (maybe `np.bincount` can help)"
      ]
    },
    {
      "cell_type": "markdown",
      "metadata": {
        "id": "tz9XASPxeqDC",
        "colab_type": "text"
      },
      "source": [
        "## Homework exercise 1 (3 points): KNN\n",
        "\n",
        "<font color='red'>**(a)** Implement the aformentioned algorithm in the cell below (2 points)</font>"
      ]
    },
    {
      "cell_type": "code",
      "metadata": {
        "id": "J91vFM8yeqDC",
        "colab_type": "code",
        "colab": {}
      },
      "source": [
        "def classify_knn(image, k):\n",
        "  ##### YOUR CODE STARTS #####\n",
        "  all_distances = [dist(image, img) for img in train_images]\n",
        "  knn = np.argsort(all_distances)[0:k]\n",
        "  #print(knn)\n",
        "  #print(train_labels[knn])\n",
        "  counts = np.bincount(train_labels[knn])\n",
        "  #print(counts)\n",
        "  prediction = np.argmax(counts)\n",
        "  ##### YOUR CODE ENDS ##### (please do not delete this line)\n",
        "  return prediction"
      ],
      "execution_count": 0,
      "outputs": []
    },
    {
      "cell_type": "markdown",
      "metadata": {
        "id": "lpP9LIhWeqDE",
        "colab_type": "text"
      },
      "source": [
        "Test the function on `test_image`:"
      ]
    },
    {
      "cell_type": "code",
      "metadata": {
        "id": "a1ZjNWxzeqDF",
        "colab_type": "code",
        "outputId": "01a78c46-c87f-445a-81ce-92a2bec0a9f4",
        "colab": {
          "base_uri": "https://localhost:8080/",
          "height": 34
        }
      },
      "source": [
        "print(f\"Predicted class for the first image is {classify_knn(test_image, 10)} and the true label is {test_label}\")"
      ],
      "execution_count": 26,
      "outputs": [
        {
          "output_type": "stream",
          "text": [
            "Predicted class for the first image is 8 and the true label is 8\n"
          ],
          "name": "stdout"
        }
      ]
    },
    {
      "cell_type": "markdown",
      "metadata": {
        "id": "RkIbSADBjCpB",
        "colab_type": "text"
      },
      "source": [
        "<font color='red'>**(b)** Modify the function `classify_knn` adding a print statement that outputs labels of K nearest labels. Report 10 nearest neighbours  for the `test_image`. Explain its output in the cell below. (1 point) </font>"
      ]
    },
    {
      "cell_type": "markdown",
      "metadata": {
        "id": "TzlSQ4zPqj-J",
        "colab_type": "text"
      },
      "source": [
        "\n",
        "\n",
        "```\n",
        "# This is formatted as code\n",
        "```\n",
        "\n",
        "Answer to (b): In the classify_knn function we"
      ]
    },
    {
      "cell_type": "code",
      "metadata": {
        "id": "nSRhQ0R9-kWM",
        "colab_type": "code",
        "colab": {}
      },
      "source": [
        "def classify_knn_modified(image, k):\n",
        "  ##### YOUR CODE STARTS #####\n",
        "  all_distances = [dist(image, img) for img in train_images]\n",
        "  knn = np.argsort(all_distances)[0:k]\n",
        "  print(f'The closest images by indexes are:  {knn}')\n",
        "  print(f'The closest labels: {train_labels[knn]}')\n",
        "  counts = np.bincount(train_labels[knn])\n",
        "  print(f'Label Frequency: {counts}')\n",
        "  prediction = np.argmax(counts)\n",
        "  ##### YOUR CODE ENDS ##### (please do not delete this line)\n",
        "  return prediction"
      ],
      "execution_count": 0,
      "outputs": []
    },
    {
      "cell_type": "code",
      "metadata": {
        "id": "7V1Mysrb-qkY",
        "colab_type": "code",
        "outputId": "c4131a4a-f4bb-4f03-c511-74515575dacc",
        "colab": {
          "base_uri": "https://localhost:8080/",
          "height": 84
        }
      },
      "source": [
        "print(f\"Predicted class for the first image is {classify_knn_modified(test_image, 10)} and the true label is {test_label}\")"
      ],
      "execution_count": 28,
      "outputs": [
        {
          "output_type": "stream",
          "text": [
            "The closest images by indexes are:  [1404  296  394  372  550 1160 1006 1962 1196 1300]\n",
            "The closest labels: [8 8 8 8 5 4 8 8 8 5]\n",
            "Label Frequency: [0 0 0 0 1 2 0 0 7]\n",
            "Predicted class for the first image is 8 and the true label is 8\n"
          ],
          "name": "stdout"
        }
      ]
    },
    {
      "cell_type": "markdown",
      "metadata": {
        "id": "b823IPB0-vcK",
        "colab_type": "text"
      },
      "source": [
        "In the function classify_knn_modified we find all distances for testing images. Then we get the first k indexes of sorted array using argsort function. The next step is getting the labels of the closest images by indexes. Using bincounts function we get the most frequent label in our sequence. Argmax returns the index of the most frequent label. In our case it's 8 and it is our predicted image."
      ]
    },
    {
      "cell_type": "markdown",
      "metadata": {
        "id": "YKcSRNayg9r7",
        "colab_type": "text"
      },
      "source": [
        "Seems like Nearest Neighbor works, indeed! Apply it to all 1000 test images and then estimate it's effectivness.\n",
        "\n",
        "**Classroom exercise:** Classify all test images and store them into a separate variable `test_predicted`, choose `k` = 10. **NB, don't forget to uncomment all print statements inside the function!**"
      ]
    },
    {
      "cell_type": "code",
      "metadata": {
        "id": "8oIBNn6YgbK9",
        "colab_type": "code",
        "colab": {}
      },
      "source": [
        "test_predicted = [classify_knn(image, k = 10) for image in test_images]"
      ],
      "execution_count": 0,
      "outputs": []
    },
    {
      "cell_type": "markdown",
      "metadata": {
        "id": "pXLR_7dOkK7p",
        "colab_type": "text"
      },
      "source": [
        "How many instances from the test set the classifier has predicted correctly?"
      ]
    },
    {
      "cell_type": "code",
      "metadata": {
        "id": "7piY3yeZkNC_",
        "colab_type": "code",
        "outputId": "f8312437-084b-4169-fb1e-b83972d93cf8",
        "colab": {
          "base_uri": "https://localhost:8080/",
          "height": 50
        }
      },
      "source": [
        "n_correct = np.sum(test_predicted == test_labels)\n",
        "print(f\"Number of correctly predicted images is {n_correct}\")\n",
        "n_incorrect = np.sum(test_predicted != test_labels)\n",
        "print(f\"Number of incorrectly predicted images is {n_incorrect}\")"
      ],
      "execution_count": 30,
      "outputs": [
        {
          "output_type": "stream",
          "text": [
            "Number of correctly predicted images is 863\n",
            "Number of incorrectly predicted images is 137\n"
          ],
          "name": "stdout"
        }
      ]
    },
    {
      "cell_type": "markdown",
      "metadata": {
        "id": "qPM7UHbHkXIb",
        "colab_type": "text"
      },
      "source": [
        "Now we will use **`accuracy`** (namely, proportion of correctly guessed classes) to estimate the performance of our nearest neighbor classifier. For that we need to divide number of correctly predicted images by total number of images."
      ]
    },
    {
      "cell_type": "code",
      "metadata": {
        "id": "_a9_1ZgKkRVf",
        "colab_type": "code",
        "outputId": "9be4b457-fc68-4b22-f17e-0344aea11f90",
        "colab": {
          "base_uri": "https://localhost:8080/",
          "height": 34
        }
      },
      "source": [
        "nn_accuracy = n_correct/len(test_labels)\n",
        "print(f\"Final accuracy of our nearest neighbor classifier is {nn_accuracy}. Not bad!\")"
      ],
      "execution_count": 31,
      "outputs": [
        {
          "output_type": "stream",
          "text": [
            "Final accuracy of our nearest neighbor classifier is 0.863. Not bad!\n"
          ],
          "name": "stdout"
        }
      ]
    },
    {
      "cell_type": "markdown",
      "metadata": {
        "id": "h12yXjMPk8Kz",
        "colab_type": "text"
      },
      "source": [
        "Let's examine some of the missclassified examples.\n"
      ]
    },
    {
      "cell_type": "code",
      "metadata": {
        "id": "pPAjmuQdki1Q",
        "colab_type": "code",
        "outputId": "3e774464-0db9-4a1c-955d-a370c05d942f",
        "colab": {
          "base_uri": "https://localhost:8080/",
          "height": 618
        }
      },
      "source": [
        "missclassified = np.where(test_predicted != test_labels)[0]\n",
        "print(missclassified)\n",
        "# Set an index of missclassified instance you want to examine\n",
        "index = 10\n",
        "\n",
        "# Plot this instance as usual\n",
        "img_matrix = test_images[missclassified[index]].reshape((28, 28))\n",
        "plt.imshow(img_matrix, plt.get_cmap('gray'))\n",
        "plt.axis('off')\n",
        "print(f\"This image with {test_labels[missclassified[index]]} was incorrectly predicted as {test_predicted[missclassified[index]]}\")"
      ],
      "execution_count": 36,
      "outputs": [
        {
          "output_type": "stream",
          "text": [
            "[  6   9  10  11  29  36  58  61  76  77  80 100 112 114 132 136 140 142\n",
            " 145 146 150 166 168 172 182 186 215 217 226 227 229 231 232 233 238 239\n",
            " 242 245 270 276 278 282 283 292 299 300 308 313 320 329 335 346 347 350\n",
            " 354 359 365 374 375 383 386 387 400 414 438 449 450 457 459 464 476 478\n",
            " 489 498 499 502 508 528 530 540 544 551 570 592 594 596 604 606 611 612\n",
            " 619 620 624 628 638 665 674 675 678 682 692 704 726 732 741 750 758 763\n",
            " 765 767 768 771 776 784 793 798 832 833 842 848 851 856 870 879 884 886\n",
            " 891 915 920 922 924 955 962 976 984 994 995]\n",
            "This image with 3 was incorrectly predicted as 5\n"
          ],
          "name": "stdout"
        },
        {
          "output_type": "display_data",
          "data": {
            "image/png": "[encoded data removed]",
            "text/plain": [
              "<Figure size 720x576 with 1 Axes>"
            ]
          },
          "metadata": {
            "tags": []
          }
        }
      ]
    },
    {
      "cell_type": "markdown",
      "metadata": {
        "id": "X2xsOtQCuHla",
        "colab_type": "text"
      },
      "source": [
        "## Homework exercise 2 (3 points): exploring misclassified examples\n",
        "<font color='red'>**(a)** Modify the visualisation code that we used to visualise a grid of example images from different classes. Instead of random examples for each class, visualise misclassified examples from each class. For example, in the first column visualise images that had true label `0` but were classified as something else, in the second column, show examples of images that had label `1` but were misclassified into another class and so on. Add a title to each small image, in the following format `true_label, predicted_label`. (2 points)</font>"
      ]
    },
    {
      "cell_type": "code",
      "metadata": {
        "id": "TL33LcGAqa9o",
        "colab_type": "code",
        "colab": {}
      },
      "source": [
        ""
      ],
      "execution_count": 0,
      "outputs": []
    },
    {
      "cell_type": "code",
      "metadata": {
        "id": "KTbyvxFqM9_Q",
        "colab_type": "code",
        "outputId": "a854504f-a1aa-4ef2-eb76-1ea516f37c2d",
        "colab": {
          "base_uri": "https://localhost:8080/",
          "height": 1000
        }
      },
      "source": [
        "plt.rcParams['figure.figsize'] = (22.0, 18.0) # set default size of plots\n",
        "# \"Names\" of classes:\n",
        "classes =  ['0', '1', '2', '3', '4', '5', '6', '7', '8', '9']\n",
        "num_classes = len(classes)\n",
        "samples_per_class = 10 # Number of images from each class we want to see\n",
        "    ##### YOUR CODE STARTS #####\n",
        "error_test_labels = test_labels[missclassified]\n",
        "for y, cls in enumerate(classes):\n",
        "    idxs = np.intersect1d(np.flatnonzero(test_labels == y ), missclassified)\n",
        "    print(f'Class: {cls} - the number of errors: {len(idxs)}')\n",
        "\n",
        "for y, cls in enumerate(classes):\n",
        "    idxs = np.intersect1d(np.flatnonzero(test_labels == y ), missclassified)\n",
        "    idxs = np.random.choice(idxs, min(len(idxs),samples_per_class), replace=False)\n",
        "    for i, idx in enumerate(idxs):\n",
        "        plt_idx = i * num_classes + y + 1\n",
        "        plt.subplot(samples_per_class, num_classes, plt_idx)\n",
        "        plt.imshow(test_images[idx].reshape((28, 28)), plt.get_cmap('gray'))\n",
        "        plt.axis('off')\n",
        "        plt.title(f'Predicted: {test_predicted[idx]}')\n",
        "        if i == 0:\n",
        "            plt.title(f'True: {cls} Predicted: {test_predicted[idx]}')\n",
        "            ##### YOUR CODE ENDS ##### (please do not delete this line)\n",
        "plt.show()\n",
        "    "
      ],
      "execution_count": 33,
      "outputs": [
        {
          "output_type": "stream",
          "text": [
            "Class: 0 - the number of errors: 1\n",
            "Class: 1 - the number of errors: 0\n",
            "Class: 2 - the number of errors: 22\n",
            "Class: 3 - the number of errors: 17\n",
            "Class: 4 - the number of errors: 22\n",
            "Class: 5 - the number of errors: 19\n",
            "Class: 6 - the number of errors: 2\n",
            "Class: 7 - the number of errors: 8\n",
            "Class: 8 - the number of errors: 33\n",
            "Class: 9 - the number of errors: 13\n"
          ],
          "name": "stdout"
        },
        {
          "output_type": "display_data",
          "data": {
            "image/png": "[encoded data removed]",
            "text/plain": [
              "<Figure size 1584x1296 with 71 Axes>"
            ]
          },
          "metadata": {
            "tags": []
          }
        }
      ]
    },
    {
      "cell_type": "markdown",
      "metadata": {
        "id": "73G5hFzrxrVc",
        "colab_type": "text"
      },
      "source": [
        "<font color='red'>**(b)** What is your take away from this figure? Are all classes equally missclassified? Why? Are there any classes that KNN confuses more often, why? (1 point) </font>"
      ]
    },
    {
      "cell_type": "markdown",
      "metadata": {
        "id": "rmNqSRNiysh-",
        "colab_type": "text"
      },
      "source": [
        "Answer to (b): From the missclassified classes above we can see, that the least errors are for classes: 0, 6, 7, 9. At the same time class 2 has no any error instances. 8 class is confused more often than others (33 times / ~25%). It's the most complicated figure and also results depends on the position and handwriting of the person who wrote it. "
      ]
    },
    {
      "cell_type": "markdown",
      "metadata": {
        "id": "NZDsFKpngFK1",
        "colab_type": "text"
      },
      "source": [
        "### Scikit-learn"
      ]
    },
    {
      "cell_type": "markdown",
      "metadata": {
        "id": "8eNqmHxsgFK2",
        "colab_type": "text"
      },
      "source": [
        "Now let us use the Scikit-Learn package to train the Nearest Neigbor classifier.\n",
        "\n",
        "Most of the models that we are going to use are implemented in scikit-learn, for example KNN is available under the name `KNNeiborsClassifier`. All you need to do is to import it from `sklearn` (this a short name for scikit-learn)."
      ]
    },
    {
      "cell_type": "code",
      "metadata": {
        "id": "OV7PNg-wgFK3",
        "colab_type": "code",
        "colab": {}
      },
      "source": [
        "import sklearn\n",
        "from sklearn.neighbors import KNeighborsClassifier"
      ],
      "execution_count": 0,
      "outputs": []
    },
    {
      "cell_type": "markdown",
      "metadata": {
        "id": "h0Kwi4szgFK5",
        "colab_type": "text"
      },
      "source": [
        "Let's create an instance of the KNN classifier by calling a `KNeighborsClassifier()` function. As an input parameter you can specify `k`. For example 10 nearest neighbour classifier is created like this:"
      ]
    },
    {
      "cell_type": "code",
      "metadata": {
        "id": "k8yL3NTqgFK5",
        "colab_type": "code",
        "colab": {}
      },
      "source": [
        "model = KNeighborsClassifier(10)"
      ],
      "execution_count": 0,
      "outputs": []
    },
    {
      "cell_type": "markdown",
      "metadata": {
        "id": "wyXtNqpFgFK9",
        "colab_type": "text"
      },
      "source": [
        "Most of the scikit-learn models have method `fit` that let you train the classifier given training instances and correct labels:"
      ]
    },
    {
      "cell_type": "code",
      "metadata": {
        "id": "6bgzqOEYgFK-",
        "colab_type": "code",
        "outputId": "a8e104fc-4cb1-4bf8-98bc-267831698cfa",
        "colab": {
          "base_uri": "https://localhost:8080/",
          "height": 67
        }
      },
      "source": [
        "model.fit(train_images, train_labels)"
      ],
      "execution_count": 42,
      "outputs": [
        {
          "output_type": "execute_result",
          "data": {
            "text/plain": [
              "KNeighborsClassifier(algorithm='auto', leaf_size=30, metric='minkowski',\n",
              "                     metric_params=None, n_jobs=None, n_neighbors=10, p=2,\n",
              "                     weights='uniform')"
            ]
          },
          "metadata": {
            "tags": []
          },
          "execution_count": 42
        }
      ]
    },
    {
      "cell_type": "markdown",
      "metadata": {
        "id": "NAHwRm4igFLA",
        "colab_type": "text"
      },
      "source": [
        "**Classroom exercise:** Use trained nearest neighbor classifier (`model`) to predict `test_images` and then calculate the accuracy. How does it compare to the one we obtained in the class?"
      ]
    },
    {
      "cell_type": "code",
      "metadata": {
        "id": "1YfjlFlFgFLB",
        "colab_type": "code",
        "outputId": "257dea19-1db8-4f5c-ef1b-ced95a3bcf82",
        "colab": {
          "base_uri": "https://localhost:8080/",
          "height": 34
        }
      },
      "source": [
        "##### YOUR CODE STARTS #####\n",
        "n_correct = np.sum(model.predict(test_images) == test_labels)\n",
        "##### YOUR CODE ENDS ##### (please do not delete this line)\n",
        "print(f\"Number of correctly predicted images is {n_correct}\")"
      ],
      "execution_count": 43,
      "outputs": [
        {
          "output_type": "stream",
          "text": [
            "Number of correctly predicted images is 863\n"
          ],
          "name": "stdout"
        }
      ]
    },
    {
      "cell_type": "markdown",
      "metadata": {
        "id": "mLDk2_c3P6_j",
        "colab_type": "text"
      },
      "source": [
        "# Regression\n",
        "\n",
        "## Small 2D example\n",
        "\n",
        "Here we will create a small toy dataset for playing around with some regression algorithms."
      ]
    },
    {
      "cell_type": "code",
      "metadata": {
        "id": "Q255sYHwP7SS",
        "colab_type": "code",
        "colab": {}
      },
      "source": [
        "import numpy as np \n",
        "import pandas as pd\n",
        "\n",
        "example_data = pd.DataFrame({'distance':[1,2,3,4,5], 'fare_amount':[2,4,5,4,5]})"
      ],
      "execution_count": 0,
      "outputs": []
    },
    {
      "cell_type": "markdown",
      "metadata": {
        "id": "narJIhxlpKTy",
        "colab_type": "text"
      },
      "source": [
        "You can access columns using `.` notation and name of the column, e.g.:"
      ]
    },
    {
      "cell_type": "code",
      "metadata": {
        "id": "4AcFY5iOpJsm",
        "colab_type": "code",
        "outputId": "ed6e45c4-da1d-466b-fc32-0fe71fbddbd0",
        "colab": {
          "base_uri": "https://localhost:8080/",
          "height": 118
        }
      },
      "source": [
        "example_data.fare_amount"
      ],
      "execution_count": 45,
      "outputs": [
        {
          "output_type": "execute_result",
          "data": {
            "text/plain": [
              "0    2\n",
              "1    4\n",
              "2    5\n",
              "3    4\n",
              "4    5\n",
              "Name: fare_amount, dtype: int64"
            ]
          },
          "metadata": {
            "tags": []
          },
          "execution_count": 45
        }
      ]
    },
    {
      "cell_type": "markdown",
      "metadata": {
        "id": "JBK_tjSDzMeo",
        "colab_type": "text"
      },
      "source": [
        "The following is my attempt to reproduce figures exactly as in lecture slides. Never mind, you will be able to use regular `matplotlib` as before if you like."
      ]
    },
    {
      "cell_type": "code",
      "metadata": {
        "id": "_uZnwxr6RxyF",
        "colab_type": "code",
        "outputId": "529c3329-d378-4024-849b-3e3b70991e77",
        "colab": {
          "base_uri": "https://localhost:8080/",
          "height": 302
        }
      },
      "source": [
        "# Plotting as in ggplot2\n",
        "!pip install plotnine\n",
        "from plotnine import *"
      ],
      "execution_count": 46,
      "outputs": [
        {
          "output_type": "stream",
          "text": [
            "Requirement already satisfied: plotnine in /usr/local/lib/python3.6/dist-packages (0.6.0)\n",
            "Requirement already satisfied: statsmodels>=0.9.0 in /usr/local/lib/python3.6/dist-packages (from plotnine) (0.10.2)\n",
            "Requirement already satisfied: pandas>=0.25.0 in /usr/local/lib/python3.6/dist-packages (from plotnine) (0.25.3)\n",
            "Requirement already satisfied: mizani>=0.6.0 in /usr/local/lib/python3.6/dist-packages (from plotnine) (0.6.0)\n",
            "Requirement already satisfied: descartes>=1.1.0 in /usr/local/lib/python3.6/dist-packages (from plotnine) (1.1.0)\n",
            "Requirement already satisfied: scipy>=1.2.0 in /usr/local/lib/python3.6/dist-packages (from plotnine) (1.4.1)\n",
            "Requirement already satisfied: patsy>=0.4.1 in /usr/local/lib/python3.6/dist-packages (from plotnine) (0.5.1)\n",
            "Requirement already satisfied: matplotlib>=3.1.1 in /usr/local/lib/python3.6/dist-packages (from plotnine) (3.1.3)\n",
            "Requirement already satisfied: numpy>=1.16.0 in /usr/local/lib/python3.6/dist-packages (from plotnine) (1.17.5)\n",
            "Requirement already satisfied: pytz>=2017.2 in /usr/local/lib/python3.6/dist-packages (from pandas>=0.25.0->plotnine) (2018.9)\n",
            "Requirement already satisfied: python-dateutil>=2.6.1 in /usr/local/lib/python3.6/dist-packages (from pandas>=0.25.0->plotnine) (2.6.1)\n",
            "Requirement already satisfied: palettable in /usr/local/lib/python3.6/dist-packages (from mizani>=0.6.0->plotnine) (3.3.0)\n",
            "Requirement already satisfied: six in /usr/local/lib/python3.6/dist-packages (from patsy>=0.4.1->plotnine) (1.12.0)\n",
            "Requirement already satisfied: pyparsing!=2.0.4,!=2.1.2,!=2.1.6,>=2.0.1 in /usr/local/lib/python3.6/dist-packages (from matplotlib>=3.1.1->plotnine) (2.4.6)\n",
            "Requirement already satisfied: cycler>=0.10 in /usr/local/lib/python3.6/dist-packages (from matplotlib>=3.1.1->plotnine) (0.10.0)\n",
            "Requirement already satisfied: kiwisolver>=1.0.1 in /usr/local/lib/python3.6/dist-packages (from matplotlib>=3.1.1->plotnine) (1.1.0)\n",
            "Requirement already satisfied: setuptools in /usr/local/lib/python3.6/dist-packages (from kiwisolver>=1.0.1->matplotlib>=3.1.1->plotnine) (45.1.0)\n"
          ],
          "name": "stdout"
        }
      ]
    },
    {
      "cell_type": "code",
      "metadata": {
        "id": "6Gx5SkM9RsA0",
        "colab_type": "code",
        "outputId": "0012856b-fdf1-4c81-fc85-237ccb5c1c8d",
        "colab": {
          "base_uri": "https://localhost:8080/",
          "height": 479
        }
      },
      "source": [
        "fig = (\n",
        "    ggplot(data = example_data,\n",
        "          mapping = aes(x = 'distance', y = 'fare_amount')) +\n",
        "    geom_point(fill = '#36B059', \n",
        "               size = 5.0,\n",
        "               stroke = 2.5,\n",
        "               colour = '#2BE062',\n",
        "               shape = 'o') +\n",
        "    labs(\n",
        "        title ='',\n",
        "        x = 'distance',\n",
        "        y = 'fare amount',\n",
        "    ) +\n",
        "    xlim(0, 6) +\n",
        "    ylim(0, 7) +\n",
        "    theme_bw() + \n",
        "    theme(figure_size = (5, 5),\n",
        "          axis_line = element_line(size = 0.5, colour = \"black\"),\n",
        "          panel_grid_major = element_line(size = 0.05, colour = \"black\"),\n",
        "          panel_grid_minor = element_line(size = 0.05, colour = \"black\"),\n",
        "          axis_text = element_text(colour ='black'))\n",
        ")\n",
        "fig"
      ],
      "execution_count": 47,
      "outputs": [
        {
          "output_type": "display_data",
          "data": {
            "image/png": "[encoded data removed]",
            "text/plain": [
              "<Figure size 500x500 with 1 Axes>"
            ]
          },
          "metadata": {
            "tags": []
          }
        },
        {
          "output_type": "execute_result",
          "data": {
            "text/plain": [
              "<ggplot: (8730187915005)>"
            ]
          },
          "metadata": {
            "tags": []
          },
          "execution_count": 47
        }
      ]
    },
    {
      "cell_type": "markdown",
      "metadata": {
        "id": "MBnG26L6SvV-",
        "colab_type": "text"
      },
      "source": [
        "### Linear regression on a toy example\n",
        "**Classroom exercise**: find value of **`intercept`**,  using precalculated **`slope`** (`w1`) and the equation of the line (`y = intercept + slope*x`). Remember that in this example `x` is `distance` and `y` is `fare_amount`."
      ]
    },
    {
      "cell_type": "code",
      "metadata": {
        "id": "q0wS730hP8p6",
        "colab_type": "code",
        "outputId": "af58de6a-9782-479b-a2cd-effe0edfe87c",
        "colab": {
          "base_uri": "https://localhost:8080/",
          "height": 34
        }
      },
      "source": [
        "##### YOUR CODE STARTS #####\n",
        "w1 = ((example_data.distance - example_data.distance.mean())*(example_data.fare_amount - example_data.fare_amount.mean())).sum()\n",
        "w1 = w1 / ((example_data.distance - example_data.distance.mean()) ** 2).sum()\n",
        "intercept = example_data.fare_amount.mean() - w1 * example_data.distance.mean()\n",
        "##### YOUR CODE ENDS ##### (please do not delete this line)\n",
        "print(f\"w1 = {w1}; intercept = {intercept}, while the correct values are w1 = 0.6 and intercept = 2.2\")"
      ],
      "execution_count": 48,
      "outputs": [
        {
          "output_type": "stream",
          "text": [
            "w1 = 0.6; intercept = 2.2, while the correct values are w1 = 0.6 and intercept = 2.2\n"
          ],
          "name": "stdout"
        }
      ]
    },
    {
      "cell_type": "markdown",
      "metadata": {
        "id": "aFX1opwLVFu2",
        "colab_type": "text"
      },
      "source": [
        "We can now plug in these coefficients to visually examine regression line that we have computed"
      ]
    },
    {
      "cell_type": "code",
      "metadata": {
        "id": "VHWrTU2AEPqV",
        "colab_type": "code",
        "outputId": "40275d17-0eae-4d4b-cdbb-bdaa78c2363d",
        "colab": {
          "base_uri": "https://localhost:8080/",
          "height": 479
        }
      },
      "source": [
        "fig + geom_abline(intercept = intercept, slope = w1, color=\"black\", linetype=\"dashed\", size=1.5)"
      ],
      "execution_count": 49,
      "outputs": [
        {
          "output_type": "display_data",
          "data": {
            "image/png": "[encoded data removed]",
            "text/plain": [
              "<Figure size 500x500 with 1 Axes>"
            ]
          },
          "metadata": {
            "tags": []
          }
        },
        {
          "output_type": "execute_result",
          "data": {
            "text/plain": [
              "<ggplot: (-9223363306666864261)>"
            ]
          },
          "metadata": {
            "tags": []
          },
          "execution_count": 49
        }
      ]
    },
    {
      "cell_type": "markdown",
      "metadata": {
        "id": "y8RlGcKHUKLZ",
        "colab_type": "text"
      },
      "source": [
        "We can compare our regression line with a regression line computed by Python"
      ]
    },
    {
      "cell_type": "code",
      "metadata": {
        "id": "c5zVWrYsETu-",
        "colab_type": "code",
        "outputId": "76db2d8b-5656-4f7b-b453-00c1fe624a44",
        "colab": {
          "base_uri": "https://localhost:8080/",
          "height": 513
        }
      },
      "source": [
        "fig + geom_abline(intercept = intercept, slope = w1, color=\"black\", linetype=\"dashed\", size=1.5) + geom_smooth(method = 'lm', se = False, colour = 'red')"
      ],
      "execution_count": 50,
      "outputs": [
        {
          "output_type": "stream",
          "text": [
            "/usr/local/lib/python3.6/dist-packages/numpy/core/fromnumeric.py:2495: FutureWarning: Method .ptp is deprecated and will be removed in a future version. Use numpy.ptp instead.\n",
            "  return ptp(axis=axis, out=out, **kwargs)\n"
          ],
          "name": "stderr"
        },
        {
          "output_type": "display_data",
          "data": {
            "image/png": "[encoded data removed]",
            "text/plain": [
              "<Figure size 500x500 with 1 Axes>"
            ]
          },
          "metadata": {
            "tags": []
          }
        },
        {
          "output_type": "execute_result",
          "data": {
            "text/plain": [
              "<ggplot: (-9223363306669583693)>"
            ]
          },
          "metadata": {
            "tags": []
          },
          "execution_count": 50
        }
      ]
    },
    {
      "cell_type": "markdown",
      "metadata": {
        "id": "2592NFjoX83f",
        "colab_type": "text"
      },
      "source": [
        "### Decision tree (DT) algorithm\n",
        "We will borrow DT algorithm from sklearn package as linear regression. Sklearn has both `DecisionTreeRegressor` and `DecisionTreeClassifier` at its disposal. For now, let's use regressor."
      ]
    },
    {
      "cell_type": "code",
      "metadata": {
        "id": "Kr2p9vu0QZ6O",
        "colab_type": "code",
        "colab": {}
      },
      "source": [
        "from sklearn.tree import DecisionTreeRegressor\n",
        "dtr=DecisionTreeRegressor(max_depth = 5)"
      ],
      "execution_count": 0,
      "outputs": []
    },
    {
      "cell_type": "markdown",
      "metadata": {
        "id": "vawPyvl1YGNk",
        "colab_type": "text"
      },
      "source": [
        "we use function `fit` to train newly created DT instance on our `example_data`"
      ]
    },
    {
      "cell_type": "code",
      "metadata": {
        "id": "ODKVb6OrXtDA",
        "colab_type": "code",
        "outputId": "1f6c0c71-7604-4bb9-e220-901174426730",
        "colab": {
          "base_uri": "https://localhost:8080/",
          "height": 118
        }
      },
      "source": [
        "dtr.fit(np.array(example_data.distance).reshape(-1, 1), example_data.fare_amount)"
      ],
      "execution_count": 52,
      "outputs": [
        {
          "output_type": "execute_result",
          "data": {
            "text/plain": [
              "DecisionTreeRegressor(ccp_alpha=0.0, criterion='mse', max_depth=5,\n",
              "                      max_features=None, max_leaf_nodes=None,\n",
              "                      min_impurity_decrease=0.0, min_impurity_split=None,\n",
              "                      min_samples_leaf=1, min_samples_split=2,\n",
              "                      min_weight_fraction_leaf=0.0, presort='deprecated',\n",
              "                      random_state=None, splitter='best')"
            ]
          },
          "metadata": {
            "tags": []
          },
          "execution_count": 52
        }
      ]
    },
    {
      "cell_type": "markdown",
      "metadata": {
        "id": "in9l7yuuTKxi",
        "colab_type": "text"
      },
      "source": [
        "### Creating a synthetic test set that would cover up the whole space"
      ]
    },
    {
      "cell_type": "code",
      "metadata": {
        "id": "lm72D7nAQBKs",
        "colab_type": "code",
        "outputId": "88222f58-64be-42b4-be62-570094dfa7e4",
        "colab": {
          "base_uri": "https://localhost:8080/",
          "height": 195
        }
      },
      "source": [
        "test_data = pd.concat([pd.DataFrame({'distance': np.repeat(x, 71), 'fare_amount': np.linspace(start=0, stop=7, num=71)}) for x in np.linspace(start=0, stop=6, num=61)])\n",
        "test_data.head()"
      ],
      "execution_count": 53,
      "outputs": [
        {
          "output_type": "execute_result",
          "data": {
            "text/html": [
              "<div>\n",
              "<style scoped>\n",
              "    .dataframe tbody tr th:only-of-type {\n",
              "        vertical-align: middle;\n",
              "    }\n",
              "\n",
              "    .dataframe tbody tr th {\n",
              "        vertical-align: top;\n",
              "    }\n",
              "\n",
              "    .dataframe thead th {\n",
              "        text-align: right;\n",
              "    }\n",
              "</style>\n",
              "<table border=\"1\" class=\"dataframe\">\n",
              "  <thead>\n",
              "    <tr style=\"text-align: right;\">\n",
              "      <th></th>\n",
              "      <th>distance</th>\n",
              "      <th>fare_amount</th>\n",
              "    </tr>\n",
              "  </thead>\n",
              "  <tbody>\n",
              "    <tr>\n",
              "      <th>0</th>\n",
              "      <td>0.0</td>\n",
              "      <td>0.0</td>\n",
              "    </tr>\n",
              "    <tr>\n",
              "      <th>1</th>\n",
              "      <td>0.0</td>\n",
              "      <td>0.1</td>\n",
              "    </tr>\n",
              "    <tr>\n",
              "      <th>2</th>\n",
              "      <td>0.0</td>\n",
              "      <td>0.2</td>\n",
              "    </tr>\n",
              "    <tr>\n",
              "      <th>3</th>\n",
              "      <td>0.0</td>\n",
              "      <td>0.3</td>\n",
              "    </tr>\n",
              "    <tr>\n",
              "      <th>4</th>\n",
              "      <td>0.0</td>\n",
              "      <td>0.4</td>\n",
              "    </tr>\n",
              "  </tbody>\n",
              "</table>\n",
              "</div>"
            ],
            "text/plain": [
              "   distance  fare_amount\n",
              "0       0.0          0.0\n",
              "1       0.0          0.1\n",
              "2       0.0          0.2\n",
              "3       0.0          0.3\n",
              "4       0.0          0.4"
            ]
          },
          "metadata": {
            "tags": []
          },
          "execution_count": 53
        }
      ]
    },
    {
      "cell_type": "code",
      "metadata": {
        "colab_type": "code",
        "id": "dcW4UyT_859T",
        "colab": {}
      },
      "source": [
        "test_data['predicted_amount'] = dtr.predict(np.array(test_data.distance).reshape(-1, 1))"
      ],
      "execution_count": 0,
      "outputs": []
    },
    {
      "cell_type": "code",
      "metadata": {
        "id": "fyQWG0OyQmxz",
        "colab_type": "code",
        "outputId": "cb7c42cf-bde0-47b0-ece3-55d1979eeecf",
        "colab": {
          "base_uri": "https://localhost:8080/",
          "height": 479
        }
      },
      "source": [
        "fig = (\n",
        "    ggplot(data = example_data,\n",
        "          mapping = aes(x = 'distance', y = 'fare_amount')) +\n",
        "    geom_point(data = test_data, mapping = aes(x = 'distance', y = 'fare_amount', size = 5.0, colour = 'predicted_amount'), shape = 's') +\n",
        "    geom_point(fill = '#36B059', \n",
        "               size = 5.0,\n",
        "               stroke = 2.5,\n",
        "               colour = '#2BE062',\n",
        "               shape = 'o') +\n",
        "    labs(\n",
        "        title ='',\n",
        "        x = 'distance',\n",
        "        y = 'fare amount',\n",
        "    ) +\n",
        "    xlim(0, 6) +\n",
        "    ylim(0, 7) +\n",
        "    theme_bw() + \n",
        "    theme(figure_size = (5, 5),\n",
        "          axis_line = element_line(size = 0.5, colour = \"black\"),\n",
        "          panel_grid_major = element_line(size = 0.05, colour = \"black\"),\n",
        "          panel_grid_minor = element_line(size = 0.05, colour = \"black\"),\n",
        "          axis_text = element_text(colour ='black')) + \n",
        "    guides(size = False)\n",
        ")\n",
        "fig"
      ],
      "execution_count": 55,
      "outputs": [
        {
          "output_type": "display_data",
          "data": {
            "image/png": "[encoded data removed]",
            "text/plain": [
              "<Figure size 500x500 with 1 Axes>"
            ]
          },
          "metadata": {
            "tags": []
          }
        },
        {
          "output_type": "execute_result",
          "data": {
            "text/plain": [
              "<ggplot: (-9223363306669579183)>"
            ]
          },
          "metadata": {
            "tags": []
          },
          "execution_count": 55
        }
      ]
    },
    {
      "cell_type": "markdown",
      "metadata": {
        "id": "1YXt-Gxw9UY7",
        "colab_type": "text"
      },
      "source": [
        "## Homework exercise 3 (3 points): visualising linear regression\n",
        "\n",
        "<font color='red'>**(a)** use previously computed coefficients `w1` and `intercept` of the linear regression model to predict the fare amount in the `test_data` (1 point)"
      ]
    },
    {
      "cell_type": "code",
      "metadata": {
        "id": "BPzCHrC-9kuW",
        "colab_type": "code",
        "colab": {
          "base_uri": "https://localhost:8080/",
          "height": 195
        },
        "outputId": "c3ac7db8-d15d-4a36-b800-43cba68b8ac8"
      },
      "source": [
        "##### YOUR CODE STARTS #####\n",
        "# example_data = pd.DataFrame({'distance':[1,2,3,4,5], 'fare_amount':[2,4,5,4,5]})\n",
        "test_data['predicted_amount'] = [(intercept + w1*value) for value in test_data.distance]\n",
        "test_data.tail()\n",
        "##### YOUR CODE ENDS ##### (please do not delete this line)"
      ],
      "execution_count": 56,
      "outputs": [
        {
          "output_type": "execute_result",
          "data": {
            "text/html": [
              "<div>\n",
              "<style scoped>\n",
              "    .dataframe tbody tr th:only-of-type {\n",
              "        vertical-align: middle;\n",
              "    }\n",
              "\n",
              "    .dataframe tbody tr th {\n",
              "        vertical-align: top;\n",
              "    }\n",
              "\n",
              "    .dataframe thead th {\n",
              "        text-align: right;\n",
              "    }\n",
              "</style>\n",
              "<table border=\"1\" class=\"dataframe\">\n",
              "  <thead>\n",
              "    <tr style=\"text-align: right;\">\n",
              "      <th></th>\n",
              "      <th>distance</th>\n",
              "      <th>fare_amount</th>\n",
              "      <th>predicted_amount</th>\n",
              "    </tr>\n",
              "  </thead>\n",
              "  <tbody>\n",
              "    <tr>\n",
              "      <th>66</th>\n",
              "      <td>6.0</td>\n",
              "      <td>6.6</td>\n",
              "      <td>5.8</td>\n",
              "    </tr>\n",
              "    <tr>\n",
              "      <th>67</th>\n",
              "      <td>6.0</td>\n",
              "      <td>6.7</td>\n",
              "      <td>5.8</td>\n",
              "    </tr>\n",
              "    <tr>\n",
              "      <th>68</th>\n",
              "      <td>6.0</td>\n",
              "      <td>6.8</td>\n",
              "      <td>5.8</td>\n",
              "    </tr>\n",
              "    <tr>\n",
              "      <th>69</th>\n",
              "      <td>6.0</td>\n",
              "      <td>6.9</td>\n",
              "      <td>5.8</td>\n",
              "    </tr>\n",
              "    <tr>\n",
              "      <th>70</th>\n",
              "      <td>6.0</td>\n",
              "      <td>7.0</td>\n",
              "      <td>5.8</td>\n",
              "    </tr>\n",
              "  </tbody>\n",
              "</table>\n",
              "</div>"
            ],
            "text/plain": [
              "    distance  fare_amount  predicted_amount\n",
              "66       6.0          6.6               5.8\n",
              "67       6.0          6.7               5.8\n",
              "68       6.0          6.8               5.8\n",
              "69       6.0          6.9               5.8\n",
              "70       6.0          7.0               5.8"
            ]
          },
          "metadata": {
            "tags": []
          },
          "execution_count": 56
        }
      ]
    },
    {
      "cell_type": "markdown",
      "metadata": {
        "id": "1jsc7JbcphX5",
        "colab_type": "text"
      },
      "source": [
        "<font color='red'>**(b)** visualise these predictions as well as linear regression line the way we have done it for Decision Tree. Explain the results. (1 point)\n",
        "</font>"
      ]
    },
    {
      "cell_type": "code",
      "metadata": {
        "id": "utfQ_3GDplfx",
        "colab_type": "code",
        "colab": {
          "base_uri": "https://localhost:8080/",
          "height": 479
        },
        "outputId": "bd0365b8-643e-4ec9-d91c-9b1c7491d8bc"
      },
      "source": [
        "##### YOUR CODE STARTS #####\n",
        "dots = (\n",
        "    ggplot(data = example_data,\n",
        "          mapping = aes(x = 'distance', y = 'fare_amount')) +\n",
        "    geom_point(fill = '#36B059', \n",
        "               size = 5.0,\n",
        "               stroke = 2.5,\n",
        "               colour = '#2BE062',\n",
        "               shape = 'o') +\n",
        "    labs(\n",
        "        title ='',\n",
        "        x = 'distance',\n",
        "        y = 'fare amount',\n",
        "    ) + \n",
        "    xlim(0, 6) +\n",
        "    ylim(0, 7) +\n",
        "    theme_bw() + \n",
        "    theme(figure_size = (5, 5),\n",
        "          axis_line = element_line(size = 0.5, colour = \"black\"),\n",
        "          panel_grid_major = element_line(size = 0.05, colour = \"black\"),\n",
        "          panel_grid_minor = element_line(size = 0.05, colour = \"black\"),\n",
        "          axis_text = element_text(colour ='black'))\n",
        ")\n",
        "dots + geom_line(data = test_data, mapping = aes(x = 'distance', y = 'predicted_amount'), colour=\"red\")\n",
        "##### YOUR CODE ENDS ##### (please do not delete this line)"
      ],
      "execution_count": 57,
      "outputs": [
        {
          "output_type": "display_data",
          "data": {
            "image/png": "[encoded data removed]",
            "text/plain": [
              "<Figure size 500x500 with 1 Axes>"
            ]
          },
          "metadata": {
            "tags": []
          }
        },
        {
          "output_type": "execute_result",
          "data": {
            "text/plain": [
              "<ggplot: (-9223363306669648994)>"
            ]
          },
          "metadata": {
            "tags": []
          },
          "execution_count": 57
        }
      ]
    },
    {
      "cell_type": "markdown",
      "metadata": {
        "id": "BY97fEcmqAW9",
        "colab_type": "text"
      },
      "source": [
        "<font color='red'>**(c)** Interpret the resulting figure. (1 point)  Interpret the resulting figure. (1 point)\n",
        "</font> Linear regression performs the task to predict a dependent variable value (y) based on a given independent variable (x). In the figure above, X (distance) and Y (fare amount). The regression line is the best fit line for our model. Hypothesis function for Linear Regression : y = q_0 + q_1 *x (q_0: intercept  q_1: coefficient of x). Once we find the best θ1 and θ2 values, we get the best fit line. So when we are finally using our model for prediction, it will predict the value of y for the input value of x.\n",
        "\n",
        "</font>"
      ]
    },
    {
      "cell_type": "markdown",
      "metadata": {
        "id": "yiyv1wdqImo-",
        "colab_type": "text"
      },
      "source": [
        "## NYC Taxi dataset\n",
        "Next we will work with real-world dataset collected from taxis operating in New York City"
      ]
    },
    {
      "cell_type": "code",
      "metadata": {
        "id": "vVU6bxgsNzEh",
        "colab_type": "code",
        "colab": {}
      },
      "source": [
        "# Code to read csv file into Colaboratory:\n",
        "!pip install -U -q PyDrive\n",
        "from pydrive.auth import GoogleAuth\n",
        "from pydrive.drive import GoogleDrive\n",
        "from google.colab import auth\n",
        "from oauth2client.client import GoogleCredentials"
      ],
      "execution_count": 0,
      "outputs": []
    },
    {
      "cell_type": "code",
      "metadata": {
        "id": "3QNY3__uCWRY",
        "colab_type": "code",
        "colab": {}
      },
      "source": [
        "# Authenticate and create the PyDrive client.\n",
        "auth.authenticate_user()\n",
        "gauth = GoogleAuth()\n",
        "gauth.credentials = GoogleCredentials.get_application_default()\n",
        "drive = GoogleDrive(gauth)\n",
        "\n",
        "link = 'https://drive.google.com/file/d/1XBBNQ6wnaz5W-h8qbL-2_4MNchGR8YCI' # The shareable link"
      ],
      "execution_count": 0,
      "outputs": []
    },
    {
      "cell_type": "code",
      "metadata": {
        "id": "RmMEiS7ICgRB",
        "colab_type": "code",
        "colab": {}
      },
      "source": [
        "downloaded = drive.CreateFile({'id':'1XBBNQ6wnaz5W-h8qbL-2_4MNchGR8YCI'}) \n",
        "downloaded.GetContentFile('nyc_data.zip')"
      ],
      "execution_count": 0,
      "outputs": []
    },
    {
      "cell_type": "code",
      "metadata": {
        "id": "DvH1jMyPOHmy",
        "colab_type": "code",
        "outputId": "5e987943-6f62-46d6-f54f-b28e1b887bf4",
        "colab": {
          "base_uri": "https://localhost:8080/",
          "height": 34
        }
      },
      "source": [
        "# check that nyc_data.zip exists\n",
        "!ls"
      ],
      "execution_count": 62,
      "outputs": [
        {
          "output_type": "stream",
          "text": [
            "adc.json  MNIST_data  nyc_data.zip  sample_data\n"
          ],
          "name": "stdout"
        }
      ]
    },
    {
      "cell_type": "code",
      "metadata": {
        "id": "q0zYwWsoC-sW",
        "colab_type": "code",
        "outputId": "9c69c68c-43af-4145-f223-5efe9f429fa1",
        "colab": {
          "base_uri": "https://localhost:8080/",
          "height": 185
        }
      },
      "source": [
        "# After archive has been downloaded\n",
        "# unzip it\n",
        "!unzip nyc_data.zip\n",
        "\n",
        "# check that train_2M.csv, test.csv, model.pickle and sample_submission.csv exist\n",
        "!ls"
      ],
      "execution_count": 63,
      "outputs": [
        {
          "output_type": "stream",
          "text": [
            "Archive:  nyc_data.zip\n",
            "  inflating: train_2M.csv            \n",
            "  inflating: test.csv                \n",
            "   creating: __MACOSX/\n",
            "  inflating: __MACOSX/._test.csv     \n",
            "  inflating: model.pickle            \n",
            "  inflating: sample_submission.csv   \n",
            "  inflating: __MACOSX/._sample_submission.csv  \n",
            "adc.json  MNIST_data\tnyc_data.zip  sample_submission.csv  train_2M.csv\n",
            "__MACOSX  model.pickle\tsample_data   test.csv\n"
          ],
          "name": "stdout"
        }
      ]
    },
    {
      "cell_type": "markdown",
      "metadata": {
        "id": "GkSYWHwZEG9j",
        "colab_type": "text"
      },
      "source": [
        "* `train_2M.csv` contains 2 million observations from NYC dataset (6 independent variables and fare_amount that we need to predict).\n",
        "* `test.csv` contains new observations, for which we have to estimate `fare_amount` based on train data.\n",
        "* `sample_submission.csv` - a sample submission file in the correct format (columns `key` and `fare_amount`). Every row in this file matches every row in `test.csv`.\n",
        "* `model.pickel` - file that contains trained model saved as a pickle (we are going to deal with it later)"
      ]
    },
    {
      "cell_type": "markdown",
      "metadata": {
        "id": "d9MiatCvf_Qz",
        "colab_type": "text"
      },
      "source": [
        "### Setting up Kaggle"
      ]
    },
    {
      "cell_type": "markdown",
      "metadata": {
        "id": "8wEnpDansSd2",
        "colab_type": "text"
      },
      "source": [
        "You need to have an account on Kaggle.com"
      ]
    },
    {
      "cell_type": "code",
      "metadata": {
        "id": "el8MSVqmEPWo",
        "colab_type": "code",
        "colab": {}
      },
      "source": [
        "!mkdir .kaggle"
      ],
      "execution_count": 0,
      "outputs": []
    },
    {
      "cell_type": "code",
      "metadata": {
        "id": "pqAUm2XZEz7D",
        "colab_type": "code",
        "colab": {}
      },
      "source": [
        "import json\n",
        "token = {\"username\": \"andriiblagodyr\", \"key\": \"a0860a0ff0230bc8792f3c830ab32a6e\"}\n",
        "with open('/content/.kaggle/kaggle.json', 'w') as file:\n",
        "    json.dump(token, file)"
      ],
      "execution_count": 0,
      "outputs": []
    },
    {
      "cell_type": "code",
      "metadata": {
        "id": "VOMVGwfHGQbk",
        "colab_type": "code",
        "colab": {}
      },
      "source": [
        "!cp /content/.kaggle/kaggle.json ~/.kaggle/kaggle.json"
      ],
      "execution_count": 0,
      "outputs": []
    },
    {
      "cell_type": "code",
      "metadata": {
        "id": "mW_YpRtHGTsl",
        "colab_type": "code",
        "outputId": "02268faf-1e55-4564-e9d3-9fd721cc1b51",
        "colab": {
          "base_uri": "https://localhost:8080/",
          "height": 50
        }
      },
      "source": [
        "!kaggle config set -n path -v{/content}"
      ],
      "execution_count": 70,
      "outputs": [
        {
          "output_type": "stream",
          "text": [
            "Warning: Your Kaggle API key is readable by other users on this system! To fix this, you can run 'chmod 600 /root/.kaggle/kaggle.json'\n",
            "- path is now set to: {/content}\n"
          ],
          "name": "stdout"
        }
      ]
    },
    {
      "cell_type": "code",
      "metadata": {
        "id": "QLdLWX2nGWyM",
        "colab_type": "code",
        "colab": {}
      },
      "source": [
        "!chmod 600 ~/.kaggle/kaggle.json"
      ],
      "execution_count": 0,
      "outputs": []
    },
    {
      "cell_type": "markdown",
      "metadata": {
        "id": "2fDy-ghRhlvv",
        "colab_type": "text"
      },
      "source": [
        "In order to sign up for a NYC Taxi competition you need to accept the rules by cliking on \"Late submission\" button in the upper right corner: https://www.kaggle.com/c/new-york-city-taxi-fare-prediction"
      ]
    },
    {
      "cell_type": "markdown",
      "metadata": {
        "id": "h2FromHiSLB4",
        "colab_type": "text"
      },
      "source": [
        "Make a test submission to ensure that the submission mechanism works"
      ]
    },
    {
      "cell_type": "code",
      "metadata": {
        "id": "ULF0BN3LCtSE",
        "colab_type": "code",
        "outputId": "8327d12c-1882-42f6-e4d6-50de45402183",
        "colab": {
          "base_uri": "https://localhost:8080/",
          "height": 67
        }
      },
      "source": [
        "!kaggle competitions submit -c new-york-city-taxi-fare-prediction -f sample_submission.csv -m \"Sample submission test\""
      ],
      "execution_count": 66,
      "outputs": [
        {
          "output_type": "stream",
          "text": [
            "Warning: Looks like you're using an outdated API Version, please consider updating (server 1.5.6 / client 1.5.4)\n",
            "\r  0% 0.00/335k [00:00<?, ?B/s]\r100% 335k/335k [00:00<00:00, 1.61MB/s]\n",
            "Successfully submitted to New York City Taxi Fare Prediction"
          ],
          "name": "stdout"
        }
      ]
    },
    {
      "cell_type": "markdown",
      "metadata": {
        "id": "d4HijXgyspzs",
        "colab_type": "text"
      },
      "source": [
        "Now you can check `My submissions` tab on the website: https://www.kaggle.com/c/new-york-city-taxi-fare-prediction/submissions"
      ]
    },
    {
      "cell_type": "markdown",
      "metadata": {
        "id": "rXvcLJyNSRzH",
        "colab_type": "text"
      },
      "source": [
        "## Read in the NYC data"
      ]
    },
    {
      "cell_type": "code",
      "metadata": {
        "id": "JQXdJrPvDMrZ",
        "colab_type": "code",
        "outputId": "e25ad294-68f2-4bc6-f2bb-89dc3cc58164",
        "colab": {
          "base_uri": "https://localhost:8080/",
          "height": 50
        }
      },
      "source": [
        "%%time \n",
        "\n",
        "# note that we use only 1M out of 2M records\n",
        "train =  pd.read_csv('train_2M.csv', parse_dates=[\"pickup_datetime\"], nrows = 1_000_000) # the first row will automatically be interpreted as a header"
      ],
      "execution_count": 72,
      "outputs": [
        {
          "output_type": "stream",
          "text": [
            "CPU times: user 1.44 s, sys: 129 ms, total: 1.57 s\n",
            "Wall time: 1.59 s\n"
          ],
          "name": "stdout"
        }
      ]
    },
    {
      "cell_type": "markdown",
      "metadata": {
        "id": "s2BdqFzRHFig",
        "colab_type": "text"
      },
      "source": [
        "## Brief Exploratory Data Analysis (EDA)"
      ]
    },
    {
      "cell_type": "code",
      "metadata": {
        "id": "BQTDba2DKDFX",
        "colab_type": "code",
        "outputId": "f71a6560-be5e-4971-812e-d1fc3ae42ed0",
        "colab": {
          "base_uri": "https://localhost:8080/",
          "height": 195
        }
      },
      "source": [
        "train.head()"
      ],
      "execution_count": 73,
      "outputs": [
        {
          "output_type": "execute_result",
          "data": {
            "text/html": [
              "<div>\n",
              "<style scoped>\n",
              "    .dataframe tbody tr th:only-of-type {\n",
              "        vertical-align: middle;\n",
              "    }\n",
              "\n",
              "    .dataframe tbody tr th {\n",
              "        vertical-align: top;\n",
              "    }\n",
              "\n",
              "    .dataframe thead th {\n",
              "        text-align: right;\n",
              "    }\n",
              "</style>\n",
              "<table border=\"1\" class=\"dataframe\">\n",
              "  <thead>\n",
              "    <tr style=\"text-align: right;\">\n",
              "      <th></th>\n",
              "      <th>fare_amount</th>\n",
              "      <th>pickup_datetime</th>\n",
              "      <th>pickup_longitude</th>\n",
              "      <th>pickup_latitude</th>\n",
              "      <th>dropoff_longitude</th>\n",
              "      <th>dropoff_latitude</th>\n",
              "      <th>passenger_count</th>\n",
              "    </tr>\n",
              "  </thead>\n",
              "  <tbody>\n",
              "    <tr>\n",
              "      <th>0</th>\n",
              "      <td>4.5</td>\n",
              "      <td>2009-06-15 17:26:21</td>\n",
              "      <td>-73.844311</td>\n",
              "      <td>40.721319</td>\n",
              "      <td>-73.841610</td>\n",
              "      <td>40.712278</td>\n",
              "      <td>1</td>\n",
              "    </tr>\n",
              "    <tr>\n",
              "      <th>1</th>\n",
              "      <td>16.9</td>\n",
              "      <td>2010-01-05 16:52:16</td>\n",
              "      <td>-74.016048</td>\n",
              "      <td>40.711303</td>\n",
              "      <td>-73.979268</td>\n",
              "      <td>40.782004</td>\n",
              "      <td>1</td>\n",
              "    </tr>\n",
              "    <tr>\n",
              "      <th>2</th>\n",
              "      <td>5.7</td>\n",
              "      <td>2011-08-18 00:35:00</td>\n",
              "      <td>-73.982738</td>\n",
              "      <td>40.761270</td>\n",
              "      <td>-73.991242</td>\n",
              "      <td>40.750562</td>\n",
              "      <td>2</td>\n",
              "    </tr>\n",
              "    <tr>\n",
              "      <th>3</th>\n",
              "      <td>7.7</td>\n",
              "      <td>2012-04-21 04:30:42</td>\n",
              "      <td>-73.987130</td>\n",
              "      <td>40.733143</td>\n",
              "      <td>-73.991567</td>\n",
              "      <td>40.758092</td>\n",
              "      <td>1</td>\n",
              "    </tr>\n",
              "    <tr>\n",
              "      <th>4</th>\n",
              "      <td>5.3</td>\n",
              "      <td>2010-03-09 07:51:00</td>\n",
              "      <td>-73.968095</td>\n",
              "      <td>40.768008</td>\n",
              "      <td>-73.956655</td>\n",
              "      <td>40.783762</td>\n",
              "      <td>1</td>\n",
              "    </tr>\n",
              "  </tbody>\n",
              "</table>\n",
              "</div>"
            ],
            "text/plain": [
              "   fare_amount     pickup_datetime  ...  dropoff_latitude  passenger_count\n",
              "0          4.5 2009-06-15 17:26:21  ...         40.712278                1\n",
              "1         16.9 2010-01-05 16:52:16  ...         40.782004                1\n",
              "2          5.7 2011-08-18 00:35:00  ...         40.750562                2\n",
              "3          7.7 2012-04-21 04:30:42  ...         40.758092                1\n",
              "4          5.3 2010-03-09 07:51:00  ...         40.783762                1\n",
              "\n",
              "[5 rows x 7 columns]"
            ]
          },
          "metadata": {
            "tags": []
          },
          "execution_count": 73
        }
      ]
    },
    {
      "cell_type": "code",
      "metadata": {
        "id": "UiuOS0pBKL-E",
        "colab_type": "code",
        "outputId": "b27a650f-2e52-40d9-c72c-8f4a89365521",
        "colab": {
          "base_uri": "https://localhost:8080/",
          "height": 151
        }
      },
      "source": [
        "train.dtypes"
      ],
      "execution_count": 74,
      "outputs": [
        {
          "output_type": "execute_result",
          "data": {
            "text/plain": [
              "fare_amount                 float64\n",
              "pickup_datetime      datetime64[ns]\n",
              "pickup_longitude            float64\n",
              "pickup_latitude             float64\n",
              "dropoff_longitude           float64\n",
              "dropoff_latitude            float64\n",
              "passenger_count               int64\n",
              "dtype: object"
            ]
          },
          "metadata": {
            "tags": []
          },
          "execution_count": 74
        }
      ]
    },
    {
      "cell_type": "code",
      "metadata": {
        "id": "z5658q2zOcJZ",
        "colab_type": "code",
        "outputId": "24c239fd-4dcd-482c-86fa-c61cc79344d1",
        "colab": {
          "base_uri": "https://localhost:8080/",
          "height": 284
        }
      },
      "source": [
        "train.describe()"
      ],
      "execution_count": 75,
      "outputs": [
        {
          "output_type": "execute_result",
          "data": {
            "text/html": [
              "<div>\n",
              "<style scoped>\n",
              "    .dataframe tbody tr th:only-of-type {\n",
              "        vertical-align: middle;\n",
              "    }\n",
              "\n",
              "    .dataframe tbody tr th {\n",
              "        vertical-align: top;\n",
              "    }\n",
              "\n",
              "    .dataframe thead th {\n",
              "        text-align: right;\n",
              "    }\n",
              "</style>\n",
              "<table border=\"1\" class=\"dataframe\">\n",
              "  <thead>\n",
              "    <tr style=\"text-align: right;\">\n",
              "      <th></th>\n",
              "      <th>fare_amount</th>\n",
              "      <th>pickup_longitude</th>\n",
              "      <th>pickup_latitude</th>\n",
              "      <th>dropoff_longitude</th>\n",
              "      <th>dropoff_latitude</th>\n",
              "      <th>passenger_count</th>\n",
              "    </tr>\n",
              "  </thead>\n",
              "  <tbody>\n",
              "    <tr>\n",
              "      <th>count</th>\n",
              "      <td>1000000.000000</td>\n",
              "      <td>1000000.000000</td>\n",
              "      <td>1000000.000000</td>\n",
              "      <td>999990.000000</td>\n",
              "      <td>999990.000000</td>\n",
              "      <td>1000000.000000</td>\n",
              "    </tr>\n",
              "    <tr>\n",
              "      <th>mean</th>\n",
              "      <td>11.348079</td>\n",
              "      <td>-72.526640</td>\n",
              "      <td>39.929008</td>\n",
              "      <td>-72.527860</td>\n",
              "      <td>39.919954</td>\n",
              "      <td>1.684924</td>\n",
              "    </tr>\n",
              "    <tr>\n",
              "      <th>std</th>\n",
              "      <td>9.822090</td>\n",
              "      <td>12.057937</td>\n",
              "      <td>7.626154</td>\n",
              "      <td>11.324494</td>\n",
              "      <td>8.201418</td>\n",
              "      <td>1.323911</td>\n",
              "    </tr>\n",
              "    <tr>\n",
              "      <th>min</th>\n",
              "      <td>-44.900000</td>\n",
              "      <td>-3377.680935</td>\n",
              "      <td>-3116.285383</td>\n",
              "      <td>-3383.296608</td>\n",
              "      <td>-3114.338567</td>\n",
              "      <td>0.000000</td>\n",
              "    </tr>\n",
              "    <tr>\n",
              "      <th>25%</th>\n",
              "      <td>6.000000</td>\n",
              "      <td>-73.992060</td>\n",
              "      <td>40.734965</td>\n",
              "      <td>-73.991385</td>\n",
              "      <td>40.734046</td>\n",
              "      <td>1.000000</td>\n",
              "    </tr>\n",
              "    <tr>\n",
              "      <th>50%</th>\n",
              "      <td>8.500000</td>\n",
              "      <td>-73.981792</td>\n",
              "      <td>40.752695</td>\n",
              "      <td>-73.980135</td>\n",
              "      <td>40.753166</td>\n",
              "      <td>1.000000</td>\n",
              "    </tr>\n",
              "    <tr>\n",
              "      <th>75%</th>\n",
              "      <td>12.500000</td>\n",
              "      <td>-73.967094</td>\n",
              "      <td>40.767154</td>\n",
              "      <td>-73.963654</td>\n",
              "      <td>40.768129</td>\n",
              "      <td>2.000000</td>\n",
              "    </tr>\n",
              "    <tr>\n",
              "      <th>max</th>\n",
              "      <td>500.000000</td>\n",
              "      <td>2522.271325</td>\n",
              "      <td>2621.628430</td>\n",
              "      <td>45.581619</td>\n",
              "      <td>1651.553433</td>\n",
              "      <td>208.000000</td>\n",
              "    </tr>\n",
              "  </tbody>\n",
              "</table>\n",
              "</div>"
            ],
            "text/plain": [
              "          fare_amount  pickup_longitude  ...  dropoff_latitude  passenger_count\n",
              "count  1000000.000000    1000000.000000  ...     999990.000000   1000000.000000\n",
              "mean        11.348079        -72.526640  ...         39.919954         1.684924\n",
              "std          9.822090         12.057937  ...          8.201418         1.323911\n",
              "min        -44.900000      -3377.680935  ...      -3114.338567         0.000000\n",
              "25%          6.000000        -73.992060  ...         40.734046         1.000000\n",
              "50%          8.500000        -73.981792  ...         40.753166         1.000000\n",
              "75%         12.500000        -73.967094  ...         40.768129         2.000000\n",
              "max        500.000000       2522.271325  ...       1651.553433       208.000000\n",
              "\n",
              "[8 rows x 6 columns]"
            ]
          },
          "metadata": {
            "tags": []
          },
          "execution_count": 75
        }
      ]
    },
    {
      "cell_type": "code",
      "metadata": {
        "id": "nYJkes3jOdaJ",
        "colab_type": "code",
        "colab": {}
      },
      "source": [
        "def add_travel_vector_features(df):\n",
        "    df['abs_diff_longitude'] = (df.dropoff_longitude - df.pickup_longitude).abs()\n",
        "    df['abs_diff_latitude'] = (df.dropoff_latitude - df.pickup_latitude).abs()\n",
        "\n",
        "add_travel_vector_features(train)"
      ],
      "execution_count": 0,
      "outputs": []
    },
    {
      "cell_type": "code",
      "metadata": {
        "id": "rvX84Hoxk1Zj",
        "colab_type": "code",
        "outputId": "0537a51a-9822-4303-b0d2-782c6ed3d215",
        "colab": {
          "base_uri": "https://localhost:8080/",
          "height": 195
        }
      },
      "source": [
        "train.head()"
      ],
      "execution_count": 77,
      "outputs": [
        {
          "output_type": "execute_result",
          "data": {
            "text/html": [
              "<div>\n",
              "<style scoped>\n",
              "    .dataframe tbody tr th:only-of-type {\n",
              "        vertical-align: middle;\n",
              "    }\n",
              "\n",
              "    .dataframe tbody tr th {\n",
              "        vertical-align: top;\n",
              "    }\n",
              "\n",
              "    .dataframe thead th {\n",
              "        text-align: right;\n",
              "    }\n",
              "</style>\n",
              "<table border=\"1\" class=\"dataframe\">\n",
              "  <thead>\n",
              "    <tr style=\"text-align: right;\">\n",
              "      <th></th>\n",
              "      <th>fare_amount</th>\n",
              "      <th>pickup_datetime</th>\n",
              "      <th>pickup_longitude</th>\n",
              "      <th>pickup_latitude</th>\n",
              "      <th>dropoff_longitude</th>\n",
              "      <th>dropoff_latitude</th>\n",
              "      <th>passenger_count</th>\n",
              "      <th>abs_diff_longitude</th>\n",
              "      <th>abs_diff_latitude</th>\n",
              "    </tr>\n",
              "  </thead>\n",
              "  <tbody>\n",
              "    <tr>\n",
              "      <th>0</th>\n",
              "      <td>4.5</td>\n",
              "      <td>2009-06-15 17:26:21</td>\n",
              "      <td>-73.844311</td>\n",
              "      <td>40.721319</td>\n",
              "      <td>-73.841610</td>\n",
              "      <td>40.712278</td>\n",
              "      <td>1</td>\n",
              "      <td>0.002701</td>\n",
              "      <td>0.009041</td>\n",
              "    </tr>\n",
              "    <tr>\n",
              "      <th>1</th>\n",
              "      <td>16.9</td>\n",
              "      <td>2010-01-05 16:52:16</td>\n",
              "      <td>-74.016048</td>\n",
              "      <td>40.711303</td>\n",
              "      <td>-73.979268</td>\n",
              "      <td>40.782004</td>\n",
              "      <td>1</td>\n",
              "      <td>0.036780</td>\n",
              "      <td>0.070701</td>\n",
              "    </tr>\n",
              "    <tr>\n",
              "      <th>2</th>\n",
              "      <td>5.7</td>\n",
              "      <td>2011-08-18 00:35:00</td>\n",
              "      <td>-73.982738</td>\n",
              "      <td>40.761270</td>\n",
              "      <td>-73.991242</td>\n",
              "      <td>40.750562</td>\n",
              "      <td>2</td>\n",
              "      <td>0.008504</td>\n",
              "      <td>0.010708</td>\n",
              "    </tr>\n",
              "    <tr>\n",
              "      <th>3</th>\n",
              "      <td>7.7</td>\n",
              "      <td>2012-04-21 04:30:42</td>\n",
              "      <td>-73.987130</td>\n",
              "      <td>40.733143</td>\n",
              "      <td>-73.991567</td>\n",
              "      <td>40.758092</td>\n",
              "      <td>1</td>\n",
              "      <td>0.004437</td>\n",
              "      <td>0.024949</td>\n",
              "    </tr>\n",
              "    <tr>\n",
              "      <th>4</th>\n",
              "      <td>5.3</td>\n",
              "      <td>2010-03-09 07:51:00</td>\n",
              "      <td>-73.968095</td>\n",
              "      <td>40.768008</td>\n",
              "      <td>-73.956655</td>\n",
              "      <td>40.783762</td>\n",
              "      <td>1</td>\n",
              "      <td>0.011440</td>\n",
              "      <td>0.015754</td>\n",
              "    </tr>\n",
              "  </tbody>\n",
              "</table>\n",
              "</div>"
            ],
            "text/plain": [
              "   fare_amount     pickup_datetime  ...  abs_diff_longitude  abs_diff_latitude\n",
              "0          4.5 2009-06-15 17:26:21  ...            0.002701           0.009041\n",
              "1         16.9 2010-01-05 16:52:16  ...            0.036780           0.070701\n",
              "2          5.7 2011-08-18 00:35:00  ...            0.008504           0.010708\n",
              "3          7.7 2012-04-21 04:30:42  ...            0.004437           0.024949\n",
              "4          5.3 2010-03-09 07:51:00  ...            0.011440           0.015754\n",
              "\n",
              "[5 rows x 9 columns]"
            ]
          },
          "metadata": {
            "tags": []
          },
          "execution_count": 77
        }
      ]
    },
    {
      "cell_type": "markdown",
      "metadata": {
        "id": "ETMJ8EI4lHrh",
        "colab_type": "text"
      },
      "source": [
        "Read in test set"
      ]
    },
    {
      "cell_type": "code",
      "metadata": {
        "id": "17Lkf_YsOguo",
        "colab_type": "code",
        "outputId": "ce6c9c3a-18e1-4b8b-e804-112a57a32ab3",
        "colab": {
          "base_uri": "https://localhost:8080/",
          "height": 151
        }
      },
      "source": [
        "test_df = pd.read_csv('test.csv')\n",
        "test_df.dtypes"
      ],
      "execution_count": 78,
      "outputs": [
        {
          "output_type": "execute_result",
          "data": {
            "text/plain": [
              "key                   object\n",
              "pickup_datetime       object\n",
              "pickup_longitude     float64\n",
              "pickup_latitude      float64\n",
              "dropoff_longitude    float64\n",
              "dropoff_latitude     float64\n",
              "passenger_count        int64\n",
              "dtype: object"
            ]
          },
          "metadata": {
            "tags": []
          },
          "execution_count": 78
        }
      ]
    },
    {
      "cell_type": "code",
      "metadata": {
        "id": "nLM0rXFtOiNI",
        "colab_type": "code",
        "colab": {}
      },
      "source": [
        "add_travel_vector_features(test_df)"
      ],
      "execution_count": 0,
      "outputs": []
    },
    {
      "cell_type": "code",
      "metadata": {
        "id": "nHR870EOOj4g",
        "colab_type": "code",
        "outputId": "1074f086-d86e-4346-ae1d-01f39401b998",
        "colab": {
          "base_uri": "https://localhost:8080/",
          "height": 185
        }
      },
      "source": [
        "print(train.isnull().sum())"
      ],
      "execution_count": 80,
      "outputs": [
        {
          "output_type": "stream",
          "text": [
            "fare_amount            0\n",
            "pickup_datetime        0\n",
            "pickup_longitude       0\n",
            "pickup_latitude        0\n",
            "dropoff_longitude     10\n",
            "dropoff_latitude      10\n",
            "passenger_count        0\n",
            "abs_diff_longitude    10\n",
            "abs_diff_latitude     10\n",
            "dtype: int64\n"
          ],
          "name": "stdout"
        }
      ]
    },
    {
      "cell_type": "code",
      "metadata": {
        "id": "ygKyHcPJOlJw",
        "colab_type": "code",
        "outputId": "21cea4c6-af5c-454d-cdf3-0571020ee7ae",
        "colab": {
          "base_uri": "https://localhost:8080/",
          "height": 50
        }
      },
      "source": [
        "print(f'Old size: {len(train)}')\n",
        "train = train.dropna(how = 'any', axis = 'rows')\n",
        "print(f'New size: {len(train)}')"
      ],
      "execution_count": 81,
      "outputs": [
        {
          "output_type": "stream",
          "text": [
            "Old size: 1000000\n",
            "New size: 999990\n"
          ],
          "name": "stdout"
        }
      ]
    },
    {
      "cell_type": "code",
      "metadata": {
        "id": "5ngFKLETOm_4",
        "colab_type": "code",
        "outputId": "22a2fd2e-5698-43e5-b50e-7aab4b4a12ac",
        "colab": {
          "base_uri": "https://localhost:8080/",
          "height": 280
        }
      },
      "source": [
        "plot = train.iloc[:2000].plot.scatter('abs_diff_longitude', 'abs_diff_latitude')"
      ],
      "execution_count": 0,
      "outputs": [
        {
          "output_type": "display_data",
          "data": {
            "image/png": "[encoded data removed]",
            "text/plain": [
              "<Figure size 432x288 with 1 Axes>"
            ]
          },
          "metadata": {
            "tags": []
          }
        }
      ]
    },
    {
      "cell_type": "code",
      "metadata": {
        "id": "Z5WHdOKjOoi_",
        "colab_type": "code",
        "outputId": "48335acc-d8e4-4ef5-cdef-6dcb6aaf5a53",
        "colab": {
          "base_uri": "https://localhost:8080/",
          "height": 50
        }
      },
      "source": [
        "print(f'Old size: {len(train)}')\n",
        "train = train[(train.abs_diff_longitude < 5.0) & (train.abs_diff_latitude < 5.0)]\n",
        "print(f'New size: {len(train)}')"
      ],
      "execution_count": 82,
      "outputs": [
        {
          "output_type": "stream",
          "text": [
            "Old size: 999990\n",
            "New size: 998025\n"
          ],
          "name": "stdout"
        }
      ]
    },
    {
      "cell_type": "code",
      "metadata": {
        "id": "zinnh2oEP2Fj",
        "colab_type": "code",
        "outputId": "e0eff72a-e708-4d0a-c107-1529f81f341f",
        "colab": {
          "base_uri": "https://localhost:8080/",
          "height": 280
        }
      },
      "source": [
        "plot = train.iloc[:2000].plot.scatter('abs_diff_longitude', 'abs_diff_latitude')"
      ],
      "execution_count": 0,
      "outputs": [
        {
          "output_type": "display_data",
          "data": {
            "image/png": "[encoded data removed]",
            "text/plain": [
              "<Figure size 432x288 with 1 Axes>"
            ]
          },
          "metadata": {
            "tags": []
          }
        }
      ]
    },
    {
      "cell_type": "markdown",
      "metadata": {
        "id": "lr1Xa6-LHq52",
        "colab_type": "text"
      },
      "source": [
        "### Naive baseline\n",
        "**Classroom exercise**: what is a reasonable baseline for predicting fare amount (`fare_amount` column in NYC taxi dataset) without knowing anything else?"
      ]
    },
    {
      "cell_type": "code",
      "metadata": {
        "id": "U9ZpHS5mQupp",
        "colab_type": "code",
        "colab": {}
      },
      "source": [
        "##### YOUR CODE STARTS #####\n",
        "baseline_predictions = np.repeat(train.fare_amount.mean(), len(test_df))\n",
        "##### YOUR CODE ENDS ##### (please do not delete this line)"
      ],
      "execution_count": 0,
      "outputs": []
    },
    {
      "cell_type": "code",
      "metadata": {
        "id": "HtPZhyzMUBOQ",
        "colab_type": "code",
        "outputId": "2a52b7a3-3c5b-40cd-a5c3-e24c5e271398",
        "colab": {
          "base_uri": "https://localhost:8080/",
          "height": 50
        }
      },
      "source": [
        "# Write the predictions to a CSV file which we can submit to the competition.\n",
        "submission = pd.DataFrame(\n",
        "    {'key': test_df.key, 'fare_amount': baseline_predictions},\n",
        "    columns = ['key', 'fare_amount'])\n",
        "submission.to_csv('submission_baseline.csv', index = False)\n",
        "\n",
        "!ls"
      ],
      "execution_count": 84,
      "outputs": [
        {
          "output_type": "stream",
          "text": [
            "adc.json  MNIST_data\tnyc_data.zip  sample_submission.csv    test.csv\n",
            "__MACOSX  model.pickle\tsample_data   submission_baseline.csv  train_2M.csv\n"
          ],
          "name": "stdout"
        }
      ]
    },
    {
      "cell_type": "markdown",
      "metadata": {
        "id": "pMTcwEVKZfrP",
        "colab_type": "text"
      },
      "source": [
        "**Classroom exercise**: submit `submission_baseline.csv` to kaggle using earlier example, report RMSE that you get"
      ]
    },
    {
      "cell_type": "code",
      "metadata": {
        "id": "ghUXJjZtWNhR",
        "colab_type": "code",
        "outputId": "72a44c3b-f9df-4b64-b7f3-f0458b05ebfe",
        "colab": {
          "base_uri": "https://localhost:8080/",
          "height": 88
        }
      },
      "source": [
        "##### YOUR CODE STARTS #####\n",
        "!kaggle competitions submit -c new-york-city-taxi-fare-prediction -f submission_baseline.csv -m \"Baseline submission test\"\n",
        "##### YOUR CODE ENDS ##### (please do not delete this line)"
      ],
      "execution_count": 0,
      "outputs": [
        {
          "output_type": "stream",
          "text": [
            "Warning: Looks like you're using an outdated API Version, please consider updating (server 1.5.6 / client 1.5.4)\n",
            "100% 451k/451k [00:02<00:00, 213kB/s]\n",
            "Successfully submitted to New York City Taxi Fare Prediction"
          ],
          "name": "stdout"
        }
      ]
    },
    {
      "cell_type": "markdown",
      "metadata": {
        "id": "ba5yhMc2XBxz",
        "colab_type": "text"
      },
      "source": [
        "### Linear regression on NYC taxi dataset based on one feature (abs_diff_longitude)"
      ]
    },
    {
      "cell_type": "markdown",
      "metadata": {
        "id": "QHgq2oyYXzU_",
        "colab_type": "text"
      },
      "source": [
        "**Classroom exercise**: Use earlier example on 2D data to calculate **`slope`** (`w1`) and **`intercept`** based on **`abs_diff_longitude`**\n"
      ]
    },
    {
      "cell_type": "code",
      "metadata": {
        "id": "21P48rhuXE3h",
        "colab_type": "code",
        "outputId": "b4715810-86c5-4067-b7a2-152d76ec8b15",
        "colab": {
          "base_uri": "https://localhost:8080/",
          "height": 34
        }
      },
      "source": [
        "##### YOUR CODE STARTS #####\n",
        "w1 = ((train.abs_diff_longitude - train.abs_diff_longitude.mean())*(train.fare_amount - train.fare_amount.mean())).sum()\n",
        "w1 = w1 / ((train.abs_diff_longitude - train.abs_diff_longitude.mean()) ** 2).sum()\n",
        "intercept = train.fare_amount.mean() - w1 * train.abs_diff_longitude.mean()\n",
        "\n",
        "##### YOUR CODE ENDS ##### (please do not delete this line)\n",
        "print(f\"w1 = {round(w1, 8)}; intercept = {round(intercept, 8)}\")"
      ],
      "execution_count": 85,
      "outputs": [
        {
          "output_type": "stream",
          "text": [
            "w1 = 179.08616006; intercept = 7.31070345\n"
          ],
          "name": "stdout"
        }
      ]
    },
    {
      "cell_type": "markdown",
      "metadata": {
        "id": "VoCEE4HkaPTB",
        "colab_type": "text"
      },
      "source": [
        "Instead of calculating coefficients ourselves, we can use sklearn"
      ]
    },
    {
      "cell_type": "code",
      "metadata": {
        "id": "ZCA4fNQO0P6J",
        "colab_type": "code",
        "outputId": "2a9db596-8c40-48bd-9341-db443425f01f",
        "colab": {
          "base_uri": "https://localhost:8080/",
          "height": 34
        }
      },
      "source": [
        "from sklearn.linear_model import LinearRegression\n",
        "\n",
        "lr = LinearRegression()\n",
        "lr.fit(train[['abs_diff_longitude']], train[['fare_amount']])"
      ],
      "execution_count": 113,
      "outputs": [
        {
          "output_type": "execute_result",
          "data": {
            "text/plain": [
              "LinearRegression(copy_X=True, fit_intercept=True, n_jobs=None, normalize=False)"
            ]
          },
          "metadata": {
            "tags": []
          },
          "execution_count": 113
        }
      ]
    },
    {
      "cell_type": "markdown",
      "metadata": {
        "id": "pC06Xp1w9A-c",
        "colab_type": "text"
      },
      "source": [
        "#### Inspecting model object"
      ]
    },
    {
      "cell_type": "code",
      "metadata": {
        "id": "V14--yD080QR",
        "colab_type": "code",
        "outputId": "f21e00bd-a72a-48fa-f581-d0a472f3070e",
        "colab": {
          "base_uri": "https://localhost:8080/",
          "height": 924
        }
      },
      "source": [
        "dir(lr)"
      ],
      "execution_count": 114,
      "outputs": [
        {
          "output_type": "execute_result",
          "data": {
            "text/plain": [
              "['__abstractmethods__',\n",
              " '__class__',\n",
              " '__delattr__',\n",
              " '__dict__',\n",
              " '__dir__',\n",
              " '__doc__',\n",
              " '__eq__',\n",
              " '__format__',\n",
              " '__ge__',\n",
              " '__getattribute__',\n",
              " '__getstate__',\n",
              " '__gt__',\n",
              " '__hash__',\n",
              " '__init__',\n",
              " '__init_subclass__',\n",
              " '__le__',\n",
              " '__lt__',\n",
              " '__module__',\n",
              " '__ne__',\n",
              " '__new__',\n",
              " '__reduce__',\n",
              " '__reduce_ex__',\n",
              " '__repr__',\n",
              " '__setattr__',\n",
              " '__setstate__',\n",
              " '__sizeof__',\n",
              " '__str__',\n",
              " '__subclasshook__',\n",
              " '__weakref__',\n",
              " '_abc_cache',\n",
              " '_abc_negative_cache',\n",
              " '_abc_negative_cache_version',\n",
              " '_abc_registry',\n",
              " '_decision_function',\n",
              " '_estimator_type',\n",
              " '_get_param_names',\n",
              " '_get_tags',\n",
              " '_more_tags',\n",
              " '_preprocess_data',\n",
              " '_residues',\n",
              " '_set_intercept',\n",
              " 'coef_',\n",
              " 'copy_X',\n",
              " 'fit',\n",
              " 'fit_intercept',\n",
              " 'get_params',\n",
              " 'intercept_',\n",
              " 'n_jobs',\n",
              " 'normalize',\n",
              " 'predict',\n",
              " 'rank_',\n",
              " 'score',\n",
              " 'set_params',\n",
              " 'singular_']"
            ]
          },
          "metadata": {
            "tags": []
          },
          "execution_count": 114
        }
      ]
    },
    {
      "cell_type": "code",
      "metadata": {
        "id": "vnGHTN__AOtp",
        "colab_type": "code",
        "outputId": "1073ce37-4392-4d4d-a381-180ceada2738",
        "colab": {
          "base_uri": "https://localhost:8080/",
          "height": 34
        }
      },
      "source": [
        "# Print learnt weights\n",
        "print(f'[{round(lr.coef_[0][0], 8)}, {round(lr.intercept_[0], 8)}]')"
      ],
      "execution_count": 115,
      "outputs": [
        {
          "output_type": "stream",
          "text": [
            "[179.08616006, 7.31070345]\n"
          ],
          "name": "stdout"
        }
      ]
    },
    {
      "cell_type": "markdown",
      "metadata": {
        "id": "GDfEG31gXvKZ",
        "colab_type": "text"
      },
      "source": [
        "Using earlier example, let's predict `fare_amount` based on calculated coefficients **`intercept`** and **`w1`** and **`test_df.abs_diff_longitude`**."
      ]
    },
    {
      "cell_type": "code",
      "metadata": {
        "id": "IdbmbIpzXTI9",
        "colab_type": "code",
        "colab": {}
      },
      "source": [
        "predictions_manual = w1*test_df.abs_diff_longitude + intercept"
      ],
      "execution_count": 0,
      "outputs": []
    },
    {
      "cell_type": "markdown",
      "metadata": {
        "id": "kBCmETriTz-Y",
        "colab_type": "text"
      },
      "source": [
        "Here is how you can predict `fare_amount` for `test_df` using sklearn object `lr`:"
      ]
    },
    {
      "cell_type": "code",
      "metadata": {
        "id": "3OJ83PbMGGnc",
        "colab_type": "code",
        "colab": {}
      },
      "source": [
        "predictions_sklearn = lr.predict(test_df[['abs_diff_longitude']])"
      ],
      "execution_count": 0,
      "outputs": []
    },
    {
      "cell_type": "code",
      "metadata": {
        "id": "yZ7zhICFX8Y6",
        "colab_type": "code",
        "outputId": "4efea2ff-7ada-4a04-c54f-b832ee9c1859",
        "colab": {
          "base_uri": "https://localhost:8080/",
          "height": 84
        }
      },
      "source": [
        "submission = pd.DataFrame(\n",
        "    {'key': test_df.key, 'fare_amount': np.squeeze(predictions_sklearn)},\n",
        "    columns = ['key', 'fare_amount'])\n",
        "submission.to_csv('submission_lr_2d.csv', index = False)\n",
        "\n",
        "!ls "
      ],
      "execution_count": 118,
      "outputs": [
        {
          "output_type": "stream",
          "text": [
            "adc.json\t\t  model.pickle\t\t submission_baseline.csv\n",
            "linear_regression.pickle  nyc_data.zip\t\t submission_lr_2d.csv\n",
            "__MACOSX\t\t  sample_data\t\t test.csv\n",
            "MNIST_data\t\t  sample_submission.csv  train_2M.csv\n"
          ],
          "name": "stdout"
        }
      ]
    },
    {
      "cell_type": "code",
      "metadata": {
        "id": "hlwRf3w0YCxM",
        "colab_type": "code",
        "outputId": "8e859508-063a-43e0-e33f-9e995993fa2e",
        "colab": {
          "base_uri": "https://localhost:8080/",
          "height": 67
        }
      },
      "source": [
        "!kaggle competitions submit -c new-york-city-taxi-fare-prediction -f submission_lr_2d.csv -m \"Linear Regression with only abs_diff_longitude as an independent variable\""
      ],
      "execution_count": 105,
      "outputs": [
        {
          "output_type": "stream",
          "text": [
            "Warning: Looks like you're using an outdated API Version, please consider updating (server 1.5.6 / client 1.5.4)\n",
            "100% 454k/454k [00:02<00:00, 171kB/s]\n",
            "Successfully submitted to New York City Taxi Fare Prediction"
          ],
          "name": "stdout"
        }
      ]
    },
    {
      "cell_type": "code",
      "metadata": {
        "id": "toSd2drMJzvp",
        "colab_type": "code",
        "outputId": "707285b1-b36f-4d4f-c00b-03430f99356d",
        "colab": {
          "base_uri": "https://localhost:8080/",
          "height": 185
        }
      },
      "source": [
        "!head submission_lr_2d.csv"
      ],
      "execution_count": 119,
      "outputs": [
        {
          "output_type": "stream",
          "text": [
            "key,fare_amount\n",
            "2015-01-27 13:08:24.0000002,8.763100513241412\n",
            "2015-01-27 13:08:24.0000003,9.464022144954694\n",
            "2011-10-08 11:53:44.0000002,7.8246807272937176\n",
            "2012-12-01 21:12:12.0000002,8.974055702575015\n",
            "2012-12-01 21:12:12.0000003,11.343544686361735\n",
            "2012-12-01 21:12:12.0000005,10.568997044091063\n",
            "2011-10-06 12:10:20.0000001,9.210628520017996\n",
            "2011-10-06 12:10:20.0000003,44.52498659500659\n",
            "2011-10-06 12:10:20.0000002,10.712086885978357\n"
          ],
          "name": "stdout"
        }
      ]
    },
    {
      "cell_type": "markdown",
      "metadata": {
        "id": "fLpkthynagGi",
        "colab_type": "text"
      },
      "source": [
        "What RMSE you obtained with this model?"
      ]
    },
    {
      "cell_type": "markdown",
      "metadata": {
        "id": "4ND-fEPFgEuc",
        "colab_type": "text"
      },
      "source": [
        "## Save/load model using pickle."
      ]
    },
    {
      "cell_type": "code",
      "metadata": {
        "id": "lamRzy5RgHY8",
        "colab_type": "code",
        "outputId": "138d0558-5ce0-4328-d6e1-e49c720a1bba",
        "colab": {
          "base_uri": "https://localhost:8080/",
          "height": 34
        }
      },
      "source": [
        "import pickle\n",
        "import os\n",
        "\n",
        "pickle_out = open('linear_regression.pickle', 'wb')\n",
        "pickle.dump(lr, pickle_out)\n",
        "\n",
        "if os.path.getsize('linear_regression.pickle') > 0:  \n",
        "    print(\"file is not empty\")"
      ],
      "execution_count": 123,
      "outputs": [
        {
          "output_type": "stream",
          "text": [
            "file is not empty\n"
          ],
          "name": "stdout"
        }
      ]
    },
    {
      "cell_type": "code",
      "metadata": {
        "id": "sFPxRBn3gQ7D",
        "colab_type": "code",
        "outputId": "aae3da24-1afc-4a45-b1bf-4fce2f3f4539",
        "colab": {
          "base_uri": "https://localhost:8080/",
          "height": 84
        }
      },
      "source": [
        "!ls"
      ],
      "execution_count": 124,
      "outputs": [
        {
          "output_type": "stream",
          "text": [
            "adc.json\t\t  model.pickle\t\t submission_baseline.csv\n",
            "linear_regression.pickle  nyc_data.zip\t\t submission_lr_2d.csv\n",
            "__MACOSX\t\t  sample_data\t\t test.csv\n",
            "MNIST_data\t\t  sample_submission.csv  train_2M.csv\n"
          ],
          "name": "stdout"
        }
      ]
    },
    {
      "cell_type": "code",
      "metadata": {
        "id": "Eq_TNYCAgRb8",
        "colab_type": "code",
        "colab": {}
      },
      "source": [
        "del lr"
      ],
      "execution_count": 0,
      "outputs": []
    },
    {
      "cell_type": "markdown",
      "metadata": {
        "id": "32ALANZBgZGH",
        "colab_type": "text"
      },
      "source": [
        "Now, if you call `lr` you should get an error:"
      ]
    },
    {
      "cell_type": "code",
      "metadata": {
        "id": "rX6F7DUagZ8o",
        "colab_type": "code",
        "outputId": "4022b409-b2a6-4c15-e2bf-9aa3180d0d6c",
        "colab": {
          "base_uri": "https://localhost:8080/",
          "height": 162
        }
      },
      "source": [
        "lr"
      ],
      "execution_count": 110,
      "outputs": [
        {
          "output_type": "error",
          "ename": "NameError",
          "evalue": "ignored",
          "traceback": [
            "\u001b[0;31m---------------------------------------------------------------------------\u001b[0m",
            "\u001b[0;31mNameError\u001b[0m                                 Traceback (most recent call last)",
            "\u001b[0;32m<ipython-input-110-653612280959>\u001b[0m in \u001b[0;36m<module>\u001b[0;34m()\u001b[0m\n\u001b[0;32m----> 1\u001b[0;31m \u001b[0mlr\u001b[0m\u001b[0;34m\u001b[0m\u001b[0;34m\u001b[0m\u001b[0m\n\u001b[0m",
            "\u001b[0;31mNameError\u001b[0m: name 'lr' is not defined"
          ]
        }
      ]
    },
    {
      "cell_type": "code",
      "metadata": {
        "id": "Bulbskr2gbAD",
        "colab_type": "code",
        "colab": {}
      },
      "source": [
        "filename = 'linear_regression.pickle'\n",
        "with open(filename, 'rb') as file:\n",
        "  lr = pickle.load(file)"
      ],
      "execution_count": 0,
      "outputs": []
    },
    {
      "cell_type": "markdown",
      "metadata": {
        "id": "tRgHrImTgfIL",
        "colab_type": "text"
      },
      "source": [
        "Check that `lr` object has been loaded successfully\n"
      ]
    },
    {
      "cell_type": "code",
      "metadata": {
        "id": "MXrnjgrsghWz",
        "colab_type": "code",
        "outputId": "7acdceb8-d176-422e-8b02-a910503aaf00",
        "colab": {
          "base_uri": "https://localhost:8080/",
          "height": 34
        }
      },
      "source": [
        "lr.get_params"
      ],
      "execution_count": 126,
      "outputs": [
        {
          "output_type": "execute_result",
          "data": {
            "text/plain": [
              "<bound method BaseEstimator.get_params of LinearRegression(copy_X=True, fit_intercept=True, n_jobs=None, normalize=False)>"
            ]
          },
          "metadata": {
            "tags": []
          },
          "execution_count": 126
        }
      ]
    },
    {
      "cell_type": "markdown",
      "metadata": {
        "id": "7p4GMeGK-QGL",
        "colab_type": "text"
      },
      "source": [
        "## Homework exercise 4 (2 points): read and explore `model.pickel`"
      ]
    },
    {
      "cell_type": "markdown",
      "metadata": {
        "id": "Rsa9ojOlgmmk",
        "colab_type": "text"
      },
      "source": [
        "<font color='red'> **(a)** read in `model.pickel` file that you have downloaded from `nyc_data.zip` using `pickle.load()` function. (1 point)"
      ]
    },
    {
      "cell_type": "code",
      "metadata": {
        "id": "iezeRiy9gl_-",
        "colab_type": "code",
        "colab": {
          "base_uri": "https://localhost:8080/",
          "height": 104
        },
        "outputId": "8c46a2cf-9b17-4859-9692-3eb2c2bbde0d"
      },
      "source": [
        "##### YOUR CODE STARTS #####\n",
        "filename = 'model.pickle'\n",
        "with open(filename, 'rb') as file:\n",
        "  lr = pickle.load(file)\n",
        "##### YOUR CODE ENDS ##### (please do not delete this line)"
      ],
      "execution_count": 127,
      "outputs": [
        {
          "output_type": "stream",
          "text": [
            "/usr/local/lib/python3.6/dist-packages/sklearn/utils/deprecation.py:144: FutureWarning: The sklearn.linear_model.base module is  deprecated in version 0.22 and will be removed in version 0.24. The corresponding classes / functions should instead be imported from sklearn.linear_model. Anything that cannot be imported from sklearn.linear_model is now part of the private API.\n",
            "  warnings.warn(message, FutureWarning)\n",
            "/usr/local/lib/python3.6/dist-packages/sklearn/base.py:318: UserWarning: Trying to unpickle estimator LinearRegression from version 0.20.1 when using version 0.22.1. This might lead to breaking code or invalid results. Use at your own risk.\n",
            "  UserWarning)\n"
          ],
          "name": "stderr"
        }
      ]
    },
    {
      "cell_type": "markdown",
      "metadata": {
        "id": "mJQbGVDs-1vS",
        "colab_type": "text"
      },
      "source": [
        "<font color='red'> **(b)** next, explore the object using function `dir` and answer the following questions:\n",
        "* <font color='red'> Which model was saved into this object?  \n",
        "* <font color='red'> How many coefficients it has and what are their values?\n",
        "* <font color='red'>Can you find out which features have been used for training?\n",
        "\n",
        "<font color='red'>(1 point)\n"
      ]
    },
    {
      "cell_type": "markdown",
      "metadata": {
        "id": "-PoebBH_ii4H",
        "colab_type": "text"
      },
      "source": [
        "Answers: "
      ]
    },
    {
      "cell_type": "code",
      "metadata": {
        "id": "mu6DVZzXUnfx",
        "colab_type": "code",
        "colab": {
          "base_uri": "https://localhost:8080/",
          "height": 924
        },
        "outputId": "c951d8f2-db00-4aff-8c32-3187c8952e54"
      },
      "source": [
        "dir(lr)"
      ],
      "execution_count": 128,
      "outputs": [
        {
          "output_type": "execute_result",
          "data": {
            "text/plain": [
              "['__abstractmethods__',\n",
              " '__class__',\n",
              " '__delattr__',\n",
              " '__dict__',\n",
              " '__dir__',\n",
              " '__doc__',\n",
              " '__eq__',\n",
              " '__format__',\n",
              " '__ge__',\n",
              " '__getattribute__',\n",
              " '__getstate__',\n",
              " '__gt__',\n",
              " '__hash__',\n",
              " '__init__',\n",
              " '__init_subclass__',\n",
              " '__le__',\n",
              " '__lt__',\n",
              " '__module__',\n",
              " '__ne__',\n",
              " '__new__',\n",
              " '__reduce__',\n",
              " '__reduce_ex__',\n",
              " '__repr__',\n",
              " '__setattr__',\n",
              " '__setstate__',\n",
              " '__sizeof__',\n",
              " '__str__',\n",
              " '__subclasshook__',\n",
              " '__weakref__',\n",
              " '_abc_cache',\n",
              " '_abc_negative_cache',\n",
              " '_abc_negative_cache_version',\n",
              " '_abc_registry',\n",
              " '_decision_function',\n",
              " '_estimator_type',\n",
              " '_get_param_names',\n",
              " '_get_tags',\n",
              " '_more_tags',\n",
              " '_preprocess_data',\n",
              " '_residues',\n",
              " '_set_intercept',\n",
              " 'coef_',\n",
              " 'copy_X',\n",
              " 'fit',\n",
              " 'fit_intercept',\n",
              " 'get_params',\n",
              " 'intercept_',\n",
              " 'n_jobs',\n",
              " 'normalize',\n",
              " 'predict',\n",
              " 'rank_',\n",
              " 'score',\n",
              " 'set_params',\n",
              " 'singular_']"
            ]
          },
          "metadata": {
            "tags": []
          },
          "execution_count": 128
        }
      ]
    },
    {
      "cell_type": "code",
      "metadata": {
        "id": "AtpiixrrU-Xy",
        "colab_type": "code",
        "colab": {
          "base_uri": "https://localhost:8080/",
          "height": 34
        },
        "outputId": "84116b03-fcfb-42fc-8e63-4883e15688c9"
      },
      "source": [
        "lr.get_params"
      ],
      "execution_count": 129,
      "outputs": [
        {
          "output_type": "execute_result",
          "data": {
            "text/plain": [
              "<bound method BaseEstimator.get_params of LinearRegression(copy_X=True, fit_intercept=True, n_jobs=None, normalize=False)>"
            ]
          },
          "metadata": {
            "tags": []
          },
          "execution_count": 129
        }
      ]
    },
    {
      "cell_type": "code",
      "metadata": {
        "id": "J5dwBXrhUx7x",
        "colab_type": "code",
        "colab": {
          "base_uri": "https://localhost:8080/",
          "height": 84
        },
        "outputId": "ab66a3a9-8cb5-4148-8d08-c96d28de3cdd"
      },
      "source": [
        "print('Model Class:' , lr.__class__)\n",
        "print('Model Coefficient values:' , lr.coef_)\n",
        "print('Model Features:', lr.get_params(deep=True))\n",
        "print('Model Intercept Value:', lr.intercept_)"
      ],
      "execution_count": 130,
      "outputs": [
        {
          "output_type": "stream",
          "text": [
            "Model Class: <class 'sklearn.linear_model._base.LinearRegression'>\n",
            "Model Coefficient values: [146.1216904   89.26772999]\n",
            "Model Features: {'copy_X': True, 'fit_intercept': True, 'n_jobs': None, 'normalize': False}\n",
            "Model Intercept Value: 6.170391055736077\n"
          ],
          "name": "stdout"
        }
      ]
    },
    {
      "cell_type": "markdown",
      "metadata": {
        "id": "QXiM7T9qYWfG",
        "colab_type": "text"
      },
      "source": [
        "### Linear regression based on more than one feature"
      ]
    },
    {
      "cell_type": "code",
      "metadata": {
        "id": "TJKT5S2pYbwK",
        "colab_type": "code",
        "outputId": "9ce195ca-4b72-4e8d-ef09-4bb5be435e0d",
        "colab": {
          "base_uri": "https://localhost:8080/",
          "height": 34
        }
      },
      "source": [
        "lr = LinearRegression()\n",
        "lr.fit(train[['abs_diff_longitude', 'abs_diff_latitude']], train[['fare_amount']])\n",
        "\n",
        "# Print learnt weights\n",
        "print(f'[{round(lr.coef_[0][0], 8)}, {round(lr.coef_[0][1], 8)} , {round(lr.intercept_[0], 8)}]')"
      ],
      "execution_count": 131,
      "outputs": [
        {
          "output_type": "stream",
          "text": [
            "[146.1216904, 89.26772999 , 6.17039106]\n"
          ],
          "name": "stdout"
        }
      ]
    },
    {
      "cell_type": "markdown",
      "metadata": {
        "id": "8dDBCIlujFWp",
        "colab_type": "text"
      },
      "source": [
        "Predict `fare_amount` for test set and submit predictions to kaggle"
      ]
    },
    {
      "cell_type": "code",
      "metadata": {
        "id": "mVpFOfPWUJMT",
        "colab_type": "code",
        "outputId": "ea03f553-eee5-4c38-a5bf-5636145045f4",
        "colab": {
          "base_uri": "https://localhost:8080/",
          "height": 101
        }
      },
      "source": [
        "# Predict fare_amount on the test set using our model (w) trained on the training set.\n",
        "test_y_predictions = lr.predict(test_df[['abs_diff_longitude', 'abs_diff_latitude']])\n",
        "\n",
        "# Write the predictions to a CSV file which we can submit to the competition.\n",
        "submission = pd.DataFrame(\n",
        "    {'key': test_df.key, 'fare_amount': np.squeeze(test_y_predictions)},\n",
        "    columns = ['key', 'fare_amount'])\n",
        "submission.to_csv('submission_lr_3d.csv', index = False)\n",
        "\n",
        "!ls "
      ],
      "execution_count": 132,
      "outputs": [
        {
          "output_type": "stream",
          "text": [
            "adc.json\t\t  nyc_data.zip\t\t   submission_lr_3d.csv\n",
            "linear_regression.pickle  sample_data\t\t   test.csv\n",
            "__MACOSX\t\t  sample_submission.csv    train_2M.csv\n",
            "MNIST_data\t\t  submission_baseline.csv\n",
            "model.pickle\t\t  submission_lr_2d.csv\n"
          ],
          "name": "stdout"
        }
      ]
    },
    {
      "cell_type": "code",
      "metadata": {
        "id": "EHNFNX9YUo1n",
        "colab_type": "code",
        "outputId": "bdd813b5-e90f-4599-8771-b0bfbbb52c7e",
        "colab": {
          "base_uri": "https://localhost:8080/",
          "height": 67
        }
      },
      "source": [
        "!kaggle competitions submit -c new-york-city-taxi-fare-prediction -f submission_lr_3d.csv -m \"Linear Regression with two predictors on 1M records\""
      ],
      "execution_count": 121,
      "outputs": [
        {
          "output_type": "stream",
          "text": [
            "Warning: Looks like you're using an outdated API Version, please consider updating (server 1.5.6 / client 1.5.4)\n",
            "100% 454k/454k [00:00<00:00, 1.47MB/s]\n",
            "Successfully submitted to New York City Taxi Fare Prediction"
          ],
          "name": "stdout"
        }
      ]
    },
    {
      "cell_type": "markdown",
      "metadata": {
        "id": "tRoXaw0ET_GG",
        "colab_type": "text"
      },
      "source": [
        "### Decision Tree (DT)"
      ]
    },
    {
      "cell_type": "code",
      "metadata": {
        "id": "b3fz57D3Tuqy",
        "colab_type": "code",
        "outputId": "9970f43f-9abf-4539-a2e8-0e8d874213ab",
        "colab": {
          "base_uri": "https://localhost:8080/",
          "height": 118
        }
      },
      "source": [
        "from sklearn.tree import DecisionTreeRegressor\n",
        "dtr= DecisionTreeRegressor(max_depth = 100)\n",
        "dtr.fit(train[['abs_diff_longitude', 'abs_diff_latitude']], train[['fare_amount']])"
      ],
      "execution_count": 133,
      "outputs": [
        {
          "output_type": "execute_result",
          "data": {
            "text/plain": [
              "DecisionTreeRegressor(ccp_alpha=0.0, criterion='mse', max_depth=100,\n",
              "                      max_features=None, max_leaf_nodes=None,\n",
              "                      min_impurity_decrease=0.0, min_impurity_split=None,\n",
              "                      min_samples_leaf=1, min_samples_split=2,\n",
              "                      min_weight_fraction_leaf=0.0, presort='deprecated',\n",
              "                      random_state=None, splitter='best')"
            ]
          },
          "metadata": {
            "tags": []
          },
          "execution_count": 133
        }
      ]
    },
    {
      "cell_type": "markdown",
      "metadata": {
        "id": "SCwxaKI4VhVM",
        "colab_type": "text"
      },
      "source": [
        "How can we predict the goodness of this model without sending it to the server? (Hint: remember RMSE?)"
      ]
    },
    {
      "cell_type": "code",
      "metadata": {
        "id": "pXQEDEwOY6N-",
        "colab_type": "code",
        "outputId": "676e4a58-f8d6-44f1-f311-61c1c131a936",
        "colab": {
          "base_uri": "https://localhost:8080/",
          "height": 34
        }
      },
      "source": [
        "np.sqrt(np.mean(( train.fare_amount - dtr.predict(train[['abs_diff_longitude', 'abs_diff_latitude']]))**2))"
      ],
      "execution_count": 134,
      "outputs": [
        {
          "output_type": "execute_result",
          "data": {
            "text/plain": [
              "2.5985798354113068"
            ]
          },
          "metadata": {
            "tags": []
          },
          "execution_count": 134
        }
      ]
    },
    {
      "cell_type": "markdown",
      "metadata": {
        "id": "3_NmcC6gb5-n",
        "colab_type": "text"
      },
      "source": [
        "or using built-in function:"
      ]
    },
    {
      "cell_type": "code",
      "metadata": {
        "id": "aSTwJPc3Vgru",
        "colab_type": "code",
        "outputId": "3d08f187-a393-41bf-98be-4c8777cda9ea",
        "colab": {
          "base_uri": "https://localhost:8080/",
          "height": 34
        }
      },
      "source": [
        "from sklearn.metrics import mean_squared_error\n",
        "np.sqrt(mean_squared_error( train.fare_amount, dtr.predict(train[['abs_diff_longitude', 'abs_diff_latitude']])))"
      ],
      "execution_count": 135,
      "outputs": [
        {
          "output_type": "execute_result",
          "data": {
            "text/plain": [
              "2.598579835411356"
            ]
          },
          "metadata": {
            "tags": []
          },
          "execution_count": 135
        }
      ]
    },
    {
      "cell_type": "markdown",
      "metadata": {
        "id": "3Utsm_1rnksz",
        "colab_type": "text"
      },
      "source": [
        "Very good! What would be our standing in the leaderboard if this RMSE was true?"
      ]
    },
    {
      "cell_type": "markdown",
      "metadata": {
        "id": "O5FTDyNGnXVk",
        "colab_type": "text"
      },
      "source": [
        "Let's now submit this mode's predictions to kaggle and compare RMSE scores"
      ]
    },
    {
      "cell_type": "code",
      "metadata": {
        "id": "1eqN62e_VVje",
        "colab_type": "code",
        "colab": {}
      },
      "source": [
        "test_y_predictions = dtr.predict(test_df[['abs_diff_longitude', 'abs_diff_latitude']])"
      ],
      "execution_count": 0,
      "outputs": []
    },
    {
      "cell_type": "code",
      "metadata": {
        "id": "W8eZnKmeV3UC",
        "colab_type": "code",
        "outputId": "5fba6452-d7cd-478e-94fe-c875371b1c0e",
        "colab": {
          "base_uri": "https://localhost:8080/",
          "height": 67
        }
      },
      "source": [
        "# Write the predictions to a CSV file which we can submit to the competition.\n",
        "submission = pd.DataFrame(\n",
        "    {'key': test_df.key, 'fare_amount': test_y_predictions},\n",
        "    columns = ['key', 'fare_amount'])\n",
        "submission.to_csv('submission_dt.csv', index = False)\n",
        "\n",
        "!kaggle competitions submit -c new-york-city-taxi-fare-prediction -f submission_dt.csv -m \"Decision Tree Regressor using 1M records and max_depth = 100\""
      ],
      "execution_count": 137,
      "outputs": [
        {
          "output_type": "stream",
          "text": [
            "Warning: Looks like you're using an outdated API Version, please consider updating (server 1.5.6 / client 1.5.4)\n",
            "100% 322k/322k [00:02<00:00, 148kB/s]\n",
            "Successfully submitted to New York City Taxi Fare Prediction"
          ],
          "name": "stdout"
        }
      ]
    },
    {
      "cell_type": "markdown",
      "metadata": {
        "id": "1eUl_nwXQhQt",
        "colab_type": "text"
      },
      "source": [
        "Let's go back to our **slides**!"
      ]
    },
    {
      "cell_type": "markdown",
      "metadata": {
        "id": "W61EbSaLclDT",
        "colab_type": "text"
      },
      "source": [
        "### Train, val split for more accurate estimate of our model performance\n",
        "We will divide our initial `train` into `train_X` (80%) and `val_X`(20%). We shall create separate variables `train_y` and `val_y` that will hold fare_amount for corresponding rows for convenience."
      ]
    },
    {
      "cell_type": "code",
      "metadata": {
        "id": "sCEE6oS5cPK3",
        "colab_type": "code",
        "colab": {}
      },
      "source": [
        "train_X = train[0:int(len(train)*0.8)]\n",
        "train_y = train.fare_amount[0:int(len(train)*0.8)]"
      ],
      "execution_count": 0,
      "outputs": []
    },
    {
      "cell_type": "markdown",
      "metadata": {
        "id": "dmOuThjiokAQ",
        "colab_type": "text"
      },
      "source": [
        "**Classroom exercise**: assign remaining 20% of the data to val_X, val_y"
      ]
    },
    {
      "cell_type": "code",
      "metadata": {
        "id": "KH6T3ry6okUp",
        "colab_type": "code",
        "colab": {}
      },
      "source": [
        "##### YOUR CODE STARTS #####\n",
        "val_X = train[int(len(train)*0.8):]\n",
        "val_y = train.fare_amount[int(len(train)*0.8):]\n",
        "##### YOUR CODE ENDS ##### (please do not delete this line)"
      ],
      "execution_count": 0,
      "outputs": []
    },
    {
      "cell_type": "code",
      "metadata": {
        "id": "-ozmdmqJfSJ0",
        "colab_type": "code",
        "outputId": "70d2e2cd-f1f4-42ca-e1a1-3379b819b04e",
        "colab": {
          "base_uri": "https://localhost:8080/",
          "height": 84
        }
      },
      "source": [
        "print(train_X.shape)\n",
        "print(train_y.shape)\n",
        "print(val_X.shape)\n",
        "print(val_y.shape)"
      ],
      "execution_count": 140,
      "outputs": [
        {
          "output_type": "stream",
          "text": [
            "(798420, 9)\n",
            "(798420,)\n",
            "(199605, 9)\n",
            "(199605,)\n"
          ],
          "name": "stdout"
        }
      ]
    },
    {
      "cell_type": "code",
      "metadata": {
        "id": "MZvC3DoRg4IX",
        "colab_type": "code",
        "outputId": "04e0776f-b02a-4822-8b2b-f4c5d52d7eca",
        "colab": {
          "base_uri": "https://localhost:8080/",
          "height": 195
        }
      },
      "source": [
        "train_X[0:5]"
      ],
      "execution_count": 141,
      "outputs": [
        {
          "output_type": "execute_result",
          "data": {
            "text/html": [
              "<div>\n",
              "<style scoped>\n",
              "    .dataframe tbody tr th:only-of-type {\n",
              "        vertical-align: middle;\n",
              "    }\n",
              "\n",
              "    .dataframe tbody tr th {\n",
              "        vertical-align: top;\n",
              "    }\n",
              "\n",
              "    .dataframe thead th {\n",
              "        text-align: right;\n",
              "    }\n",
              "</style>\n",
              "<table border=\"1\" class=\"dataframe\">\n",
              "  <thead>\n",
              "    <tr style=\"text-align: right;\">\n",
              "      <th></th>\n",
              "      <th>fare_amount</th>\n",
              "      <th>pickup_datetime</th>\n",
              "      <th>pickup_longitude</th>\n",
              "      <th>pickup_latitude</th>\n",
              "      <th>dropoff_longitude</th>\n",
              "      <th>dropoff_latitude</th>\n",
              "      <th>passenger_count</th>\n",
              "      <th>abs_diff_longitude</th>\n",
              "      <th>abs_diff_latitude</th>\n",
              "    </tr>\n",
              "  </thead>\n",
              "  <tbody>\n",
              "    <tr>\n",
              "      <th>0</th>\n",
              "      <td>4.5</td>\n",
              "      <td>2009-06-15 17:26:21</td>\n",
              "      <td>-73.844311</td>\n",
              "      <td>40.721319</td>\n",
              "      <td>-73.841610</td>\n",
              "      <td>40.712278</td>\n",
              "      <td>1</td>\n",
              "      <td>0.002701</td>\n",
              "      <td>0.009041</td>\n",
              "    </tr>\n",
              "    <tr>\n",
              "      <th>1</th>\n",
              "      <td>16.9</td>\n",
              "      <td>2010-01-05 16:52:16</td>\n",
              "      <td>-74.016048</td>\n",
              "      <td>40.711303</td>\n",
              "      <td>-73.979268</td>\n",
              "      <td>40.782004</td>\n",
              "      <td>1</td>\n",
              "      <td>0.036780</td>\n",
              "      <td>0.070701</td>\n",
              "    </tr>\n",
              "    <tr>\n",
              "      <th>2</th>\n",
              "      <td>5.7</td>\n",
              "      <td>2011-08-18 00:35:00</td>\n",
              "      <td>-73.982738</td>\n",
              "      <td>40.761270</td>\n",
              "      <td>-73.991242</td>\n",
              "      <td>40.750562</td>\n",
              "      <td>2</td>\n",
              "      <td>0.008504</td>\n",
              "      <td>0.010708</td>\n",
              "    </tr>\n",
              "    <tr>\n",
              "      <th>3</th>\n",
              "      <td>7.7</td>\n",
              "      <td>2012-04-21 04:30:42</td>\n",
              "      <td>-73.987130</td>\n",
              "      <td>40.733143</td>\n",
              "      <td>-73.991567</td>\n",
              "      <td>40.758092</td>\n",
              "      <td>1</td>\n",
              "      <td>0.004437</td>\n",
              "      <td>0.024949</td>\n",
              "    </tr>\n",
              "    <tr>\n",
              "      <th>4</th>\n",
              "      <td>5.3</td>\n",
              "      <td>2010-03-09 07:51:00</td>\n",
              "      <td>-73.968095</td>\n",
              "      <td>40.768008</td>\n",
              "      <td>-73.956655</td>\n",
              "      <td>40.783762</td>\n",
              "      <td>1</td>\n",
              "      <td>0.011440</td>\n",
              "      <td>0.015754</td>\n",
              "    </tr>\n",
              "  </tbody>\n",
              "</table>\n",
              "</div>"
            ],
            "text/plain": [
              "   fare_amount     pickup_datetime  ...  abs_diff_longitude  abs_diff_latitude\n",
              "0          4.5 2009-06-15 17:26:21  ...            0.002701           0.009041\n",
              "1         16.9 2010-01-05 16:52:16  ...            0.036780           0.070701\n",
              "2          5.7 2011-08-18 00:35:00  ...            0.008504           0.010708\n",
              "3          7.7 2012-04-21 04:30:42  ...            0.004437           0.024949\n",
              "4          5.3 2010-03-09 07:51:00  ...            0.011440           0.015754\n",
              "\n",
              "[5 rows x 9 columns]"
            ]
          },
          "metadata": {
            "tags": []
          },
          "execution_count": 141
        }
      ]
    },
    {
      "cell_type": "markdown",
      "metadata": {
        "id": "pCV5mUM_f6l7",
        "colab_type": "text"
      },
      "source": [
        "What if your first samples were easier to predict than the later ones?"
      ]
    },
    {
      "cell_type": "code",
      "metadata": {
        "id": "MoBaWmKTfSg3",
        "colab_type": "code",
        "colab": {}
      },
      "source": [
        "from sklearn.model_selection import train_test_split\n",
        "train_X, val_X, train_y, val_y = train_test_split(train, np.array(train['fare_amount']), \n",
        "                                                      random_state = 111, \n",
        "                                                      test_size = 0.20) # you can also explicitely say how many observations will be in the validation set"
      ],
      "execution_count": 0,
      "outputs": []
    },
    {
      "cell_type": "code",
      "metadata": {
        "id": "w-easQJ0g1p-",
        "colab_type": "code",
        "outputId": "b83d2107-ce40-4641-e1e4-acb26388ab63",
        "colab": {
          "base_uri": "https://localhost:8080/",
          "height": 84
        }
      },
      "source": [
        "print(train_X.shape)\n",
        "print(train_y.shape)\n",
        "print(val_X.shape)\n",
        "print(val_y.shape)"
      ],
      "execution_count": 143,
      "outputs": [
        {
          "output_type": "stream",
          "text": [
            "(798420, 9)\n",
            "(798420,)\n",
            "(199605, 9)\n",
            "(199605,)\n"
          ],
          "name": "stdout"
        }
      ]
    },
    {
      "cell_type": "code",
      "metadata": {
        "id": "nXd6FZq5g2wd",
        "colab_type": "code",
        "outputId": "8172db7a-cad6-4736-bd7a-fec55193d2ad",
        "colab": {
          "base_uri": "https://localhost:8080/",
          "height": 195
        }
      },
      "source": [
        "train_X[0:5]"
      ],
      "execution_count": 144,
      "outputs": [
        {
          "output_type": "execute_result",
          "data": {
            "text/html": [
              "<div>\n",
              "<style scoped>\n",
              "    .dataframe tbody tr th:only-of-type {\n",
              "        vertical-align: middle;\n",
              "    }\n",
              "\n",
              "    .dataframe tbody tr th {\n",
              "        vertical-align: top;\n",
              "    }\n",
              "\n",
              "    .dataframe thead th {\n",
              "        text-align: right;\n",
              "    }\n",
              "</style>\n",
              "<table border=\"1\" class=\"dataframe\">\n",
              "  <thead>\n",
              "    <tr style=\"text-align: right;\">\n",
              "      <th></th>\n",
              "      <th>fare_amount</th>\n",
              "      <th>pickup_datetime</th>\n",
              "      <th>pickup_longitude</th>\n",
              "      <th>pickup_latitude</th>\n",
              "      <th>dropoff_longitude</th>\n",
              "      <th>dropoff_latitude</th>\n",
              "      <th>passenger_count</th>\n",
              "      <th>abs_diff_longitude</th>\n",
              "      <th>abs_diff_latitude</th>\n",
              "    </tr>\n",
              "  </thead>\n",
              "  <tbody>\n",
              "    <tr>\n",
              "      <th>532805</th>\n",
              "      <td>34.3</td>\n",
              "      <td>2012-03-25 00:48:00</td>\n",
              "      <td>-73.991870</td>\n",
              "      <td>40.725952</td>\n",
              "      <td>-73.921162</td>\n",
              "      <td>40.880293</td>\n",
              "      <td>1</td>\n",
              "      <td>0.070708</td>\n",
              "      <td>0.154341</td>\n",
              "    </tr>\n",
              "    <tr>\n",
              "      <th>568773</th>\n",
              "      <td>4.9</td>\n",
              "      <td>2009-10-05 16:52:00</td>\n",
              "      <td>-74.008297</td>\n",
              "      <td>40.737962</td>\n",
              "      <td>-74.003597</td>\n",
              "      <td>40.748382</td>\n",
              "      <td>1</td>\n",
              "      <td>0.004700</td>\n",
              "      <td>0.010420</td>\n",
              "    </tr>\n",
              "    <tr>\n",
              "      <th>295336</th>\n",
              "      <td>4.5</td>\n",
              "      <td>2014-04-27 19:31:00</td>\n",
              "      <td>-73.986800</td>\n",
              "      <td>40.750375</td>\n",
              "      <td>-73.987827</td>\n",
              "      <td>40.755322</td>\n",
              "      <td>2</td>\n",
              "      <td>0.001027</td>\n",
              "      <td>0.004947</td>\n",
              "    </tr>\n",
              "    <tr>\n",
              "      <th>828760</th>\n",
              "      <td>8.5</td>\n",
              "      <td>2013-01-06 00:50:00</td>\n",
              "      <td>-74.002555</td>\n",
              "      <td>40.739702</td>\n",
              "      <td>-73.986750</td>\n",
              "      <td>40.764188</td>\n",
              "      <td>5</td>\n",
              "      <td>0.015805</td>\n",
              "      <td>0.024486</td>\n",
              "    </tr>\n",
              "    <tr>\n",
              "      <th>731917</th>\n",
              "      <td>8.5</td>\n",
              "      <td>2009-01-05 09:13:50</td>\n",
              "      <td>-73.966283</td>\n",
              "      <td>40.764822</td>\n",
              "      <td>-73.946407</td>\n",
              "      <td>40.793230</td>\n",
              "      <td>1</td>\n",
              "      <td>0.019876</td>\n",
              "      <td>0.028408</td>\n",
              "    </tr>\n",
              "  </tbody>\n",
              "</table>\n",
              "</div>"
            ],
            "text/plain": [
              "        fare_amount     pickup_datetime  ...  abs_diff_longitude  abs_diff_latitude\n",
              "532805         34.3 2012-03-25 00:48:00  ...            0.070708           0.154341\n",
              "568773          4.9 2009-10-05 16:52:00  ...            0.004700           0.010420\n",
              "295336          4.5 2014-04-27 19:31:00  ...            0.001027           0.004947\n",
              "828760          8.5 2013-01-06 00:50:00  ...            0.015805           0.024486\n",
              "731917          8.5 2009-01-05 09:13:50  ...            0.019876           0.028408\n",
              "\n",
              "[5 rows x 9 columns]"
            ]
          },
          "metadata": {
            "tags": []
          },
          "execution_count": 144
        }
      ]
    },
    {
      "cell_type": "markdown",
      "metadata": {
        "id": "iPF-eOJRq4Ll",
        "colab_type": "text"
      },
      "source": [
        "We can train our models on training data and evaluating them on validation set to obtain more realistic estimates of RMSE. Let's see if this works with our decision tree model."
      ]
    },
    {
      "cell_type": "code",
      "metadata": {
        "id": "BRLXYm4JqM90",
        "colab_type": "code",
        "outputId": "313eb4c4-e148-4a3d-ce40-49633d99018a",
        "colab": {
          "base_uri": "https://localhost:8080/",
          "height": 118
        }
      },
      "source": [
        "dtr=DecisionTreeRegressor(max_depth = 10) \n",
        "dtr.fit(train_X[['abs_diff_longitude', 'abs_diff_latitude']], train_y)"
      ],
      "execution_count": 145,
      "outputs": [
        {
          "output_type": "execute_result",
          "data": {
            "text/plain": [
              "DecisionTreeRegressor(ccp_alpha=0.0, criterion='mse', max_depth=10,\n",
              "                      max_features=None, max_leaf_nodes=None,\n",
              "                      min_impurity_decrease=0.0, min_impurity_split=None,\n",
              "                      min_samples_leaf=1, min_samples_split=2,\n",
              "                      min_weight_fraction_leaf=0.0, presort='deprecated',\n",
              "                      random_state=None, splitter='best')"
            ]
          },
          "metadata": {
            "tags": []
          },
          "execution_count": 145
        }
      ]
    },
    {
      "cell_type": "code",
      "metadata": {
        "id": "XVBrU3RbsGNG",
        "colab_type": "code",
        "outputId": "63749972-02b1-4601-a746-677b0d5286d9",
        "colab": {
          "base_uri": "https://localhost:8080/",
          "height": 34
        }
      },
      "source": [
        "np.sqrt(mean_squared_error(train_y, dtr.predict(train_X[['abs_diff_longitude', 'abs_diff_latitude']])))"
      ],
      "execution_count": 146,
      "outputs": [
        {
          "output_type": "execute_result",
          "data": {
            "text/plain": [
              "4.8201991306517"
            ]
          },
          "metadata": {
            "tags": []
          },
          "execution_count": 146
        }
      ]
    },
    {
      "cell_type": "code",
      "metadata": {
        "id": "Z6CMmIW-g-hh",
        "colab_type": "code",
        "outputId": "70b1126c-c86f-4970-8357-56de5035725c",
        "colab": {
          "base_uri": "https://localhost:8080/",
          "height": 34
        }
      },
      "source": [
        "np.sqrt(mean_squared_error(val_y, dtr.predict(val_X[['abs_diff_longitude', 'abs_diff_latitude']])))"
      ],
      "execution_count": 147,
      "outputs": [
        {
          "output_type": "execute_result",
          "data": {
            "text/plain": [
              "5.089323189415776"
            ]
          },
          "metadata": {
            "tags": []
          },
          "execution_count": 147
        }
      ]
    },
    {
      "cell_type": "markdown",
      "metadata": {
        "id": "ZPy_G_6MoShz",
        "colab_type": "text"
      },
      "source": [
        "if you increase the depth of the decision tree (e.g. to 100), you will see that the gap between validation and train RMSE also grows. **What could be the reason?**"
      ]
    },
    {
      "cell_type": "markdown",
      "metadata": {
        "id": "iSVKmeImszQP",
        "colab_type": "text"
      },
      "source": [
        "Now train a new decision tree instance on the whole dataset (train + validation sets combined) with a reasonable `max_depth`."
      ]
    },
    {
      "cell_type": "code",
      "metadata": {
        "id": "UQ-CkMZ3kAOV",
        "colab_type": "code",
        "outputId": "f712c072-9081-427d-e8b1-25cad7a310b1",
        "colab": {
          "base_uri": "https://localhost:8080/",
          "height": 118
        }
      },
      "source": [
        "dtr=DecisionTreeRegressor(max_depth = 10) \n",
        "dtr.fit(train[['abs_diff_longitude', 'abs_diff_latitude']], train[['fare_amount']])"
      ],
      "execution_count": 148,
      "outputs": [
        {
          "output_type": "execute_result",
          "data": {
            "text/plain": [
              "DecisionTreeRegressor(ccp_alpha=0.0, criterion='mse', max_depth=10,\n",
              "                      max_features=None, max_leaf_nodes=None,\n",
              "                      min_impurity_decrease=0.0, min_impurity_split=None,\n",
              "                      min_samples_leaf=1, min_samples_split=2,\n",
              "                      min_weight_fraction_leaf=0.0, presort='deprecated',\n",
              "                      random_state=None, splitter='best')"
            ]
          },
          "metadata": {
            "tags": []
          },
          "execution_count": 148
        }
      ]
    },
    {
      "cell_type": "code",
      "metadata": {
        "id": "vF-QZAv6s5-z",
        "colab_type": "code",
        "outputId": "928c2629-dce3-4dcb-b455-7c049c14d36c",
        "colab": {
          "base_uri": "https://localhost:8080/",
          "height": 101
        }
      },
      "source": [
        "test_y_predictions = dtr.predict(test_df[['abs_diff_longitude', 'abs_diff_latitude']])\n",
        "\n",
        "# Write the predictions to a CSV file which we can submit to the competition.\n",
        "submission = pd.DataFrame(\n",
        "    {'key': test_df.key, 'fare_amount': test_y_predictions},\n",
        "    columns = ['key', 'fare_amount'])\n",
        "submission.to_csv('submission_dt.csv', index = False)\n",
        "\n",
        "!ls"
      ],
      "execution_count": 149,
      "outputs": [
        {
          "output_type": "stream",
          "text": [
            "adc.json\t\t  nyc_data.zip\t\t   submission_lr_2d.csv\n",
            "linear_regression.pickle  sample_data\t\t   submission_lr_3d.csv\n",
            "__MACOSX\t\t  sample_submission.csv    test.csv\n",
            "MNIST_data\t\t  submission_baseline.csv  train_2M.csv\n",
            "model.pickle\t\t  submission_dt.csv\n"
          ],
          "name": "stdout"
        }
      ]
    },
    {
      "cell_type": "code",
      "metadata": {
        "id": "pihqbIH3s9QK",
        "colab_type": "code",
        "outputId": "28e01ea1-1bf4-4265-c6d4-fc0527fe0409",
        "colab": {
          "base_uri": "https://localhost:8080/",
          "height": 88
        }
      },
      "source": [
        "!kaggle competitions submit -c new-york-city-taxi-fare-prediction -f submission_dt.csv -m \"Decision Tree Regressor using 1M records and max_depth = 10\""
      ],
      "execution_count": 0,
      "outputs": [
        {
          "output_type": "stream",
          "text": [
            "Warning: Looks like you're using an outdated API Version, please consider updating (server 1.5.6 / client 1.5.4)\n",
            "100% 454k/454k [00:02<00:00, 209kB/s]\n",
            "Successfully submitted to New York City Taxi Fare Prediction"
          ],
          "name": "stdout"
        }
      ]
    },
    {
      "cell_type": "markdown",
      "metadata": {
        "id": "nqV2c5sDc_f2",
        "colab_type": "text"
      },
      "source": [
        "## Homework exercise 5 (4 points): cross-validation algorithm\n",
        "<font color='red'> We were cheating on our validation data when we hand-picked the number of decision trees in the previous example (as we used validation data multiple times). The honest and better way of finding a good hyperparameter (number of trees) is a **cross-validation algorithm**.\n",
        "\n",
        "**(a)** Implement the cross-validation algorithm using lecture slides and hints in comments. (3 points) </font>"
      ]
    },
    {
      "cell_type": "code",
      "metadata": {
        "id": "G96lG0IbfG87",
        "colab_type": "code",
        "colab": {
          "base_uri": "https://localhost:8080/",
          "height": 386
        },
        "outputId": "4007de07-f680-42de-d390-59e811989901"
      },
      "source": [
        "max_depths = [1, 2, 5, 8, 9, 10, 11, 12, 13, 15, 20]\n",
        "\n",
        "for param in max_depths:\n",
        "  print(f'Calculating RMSE for {param} tree(s)...')\n",
        "  ##### YOUR CODE STARTS #####\n",
        "  # 4-fold cross validation\n",
        "  # break training data into 4 equal chunks using np.concatenate and np.repeate functions\n",
        "  folds_indx = np.concatenate((np.repeat(a = np.array([0,1,2,3]), repeats = len(train)//4), np.arange(len(train)%4)), axis=0)\n",
        "\n",
        "  # randomly shuffle the indeces\n",
        "  np.random.shuffle(folds_indx)\n",
        "  train['folds'] = folds_indx\n",
        "  # number of folds\n",
        "  n_folds = 4\n",
        "\n",
        "  # initialise variable that will hold RMSEs for each fold\n",
        "  fold_RMSEs = np.zeros(n_folds)\n",
        "  for fold_indx in np.arange(n_folds):\n",
        "    \n",
        "      # split data into train_X, train_y and val_X, val_y depending on the fold:\n",
        "      filtered_train = train[train['folds']==fold_indx]\n",
        "\n",
        "      train_X = train[train['folds']!=fold_indx]\n",
        "      train_y = train.fare_amount[train['folds']!=fold_indx]\n",
        "      val_X = train[train['folds']==fold_indx]\n",
        "      val_y = train.fare_amount[train['folds']==fold_indx]\n",
        "\n",
        "      # train the decision tree with max_depth = param\n",
        "      dtr = DecisionTreeRegressor(max_depth = param) \n",
        "\n",
        "      # fit the decision tree on training data\n",
        "      dtr.fit(train_X[['abs_diff_longitude', 'abs_diff_latitude']], train_y)\n",
        "\n",
        "      # predict validation data\n",
        "      val_predictions = dtr.predict(val_X[['abs_diff_longitude', 'abs_diff_latitude']])\n",
        "\n",
        "      # calculate RMSE for this fold\n",
        "      fold_RMSEs[fold_indx] = np.sqrt(mean_squared_error(val_y, val_predictions))\n",
        "      ##### YOUR CODE ENDS ##### (please do not delete this line)\n",
        "\n",
        "  print(f'Average validation RMSE for {param} of trees is {np.mean(fold_RMSEs)}')\n",
        "\n"
      ],
      "execution_count": 205,
      "outputs": [
        {
          "output_type": "stream",
          "text": [
            "Calculating RMSE for 1 tree(s)...\n",
            "Average validation RMSE for 1 of trees is 7.1854601371109705\n",
            "Calculating RMSE for 2 tree(s)...\n",
            "Average validation RMSE for 2 of trees is 6.0286453174796595\n",
            "Calculating RMSE for 5 tree(s)...\n",
            "Average validation RMSE for 5 of trees is 5.255946942993361\n",
            "Calculating RMSE for 8 tree(s)...\n",
            "Average validation RMSE for 8 of trees is 5.06745263498999\n",
            "Calculating RMSE for 9 tree(s)...\n",
            "Average validation RMSE for 9 of trees is 5.038209626540327\n",
            "Calculating RMSE for 10 tree(s)...\n",
            "Average validation RMSE for 10 of trees is 5.106821736685172\n",
            "Calculating RMSE for 11 tree(s)...\n",
            "Average validation RMSE for 11 of trees is 5.066842539031276\n",
            "Calculating RMSE for 12 tree(s)...\n",
            "Average validation RMSE for 12 of trees is 5.183894094207588\n",
            "Calculating RMSE for 13 tree(s)...\n",
            "Average validation RMSE for 13 of trees is 5.226042538919483\n",
            "Calculating RMSE for 15 tree(s)...\n",
            "Average validation RMSE for 15 of trees is 5.3877957588639855\n",
            "Calculating RMSE for 20 tree(s)...\n",
            "Average validation RMSE for 20 of trees is 5.863641525550701\n"
          ],
          "name": "stdout"
        }
      ]
    },
    {
      "cell_type": "code",
      "metadata": {
        "id": "cslrXDj-oLiL",
        "colab_type": "code",
        "colab": {
          "base_uri": "https://localhost:8080/",
          "height": 195
        },
        "outputId": "538c7a7c-08a3-489b-9665-9c5737cedcc1"
      },
      "source": [
        "train.head()"
      ],
      "execution_count": 192,
      "outputs": [
        {
          "output_type": "execute_result",
          "data": {
            "text/html": [
              "<div>\n",
              "<style scoped>\n",
              "    .dataframe tbody tr th:only-of-type {\n",
              "        vertical-align: middle;\n",
              "    }\n",
              "\n",
              "    .dataframe tbody tr th {\n",
              "        vertical-align: top;\n",
              "    }\n",
              "\n",
              "    .dataframe thead th {\n",
              "        text-align: right;\n",
              "    }\n",
              "</style>\n",
              "<table border=\"1\" class=\"dataframe\">\n",
              "  <thead>\n",
              "    <tr style=\"text-align: right;\">\n",
              "      <th></th>\n",
              "      <th>fare_amount</th>\n",
              "      <th>pickup_datetime</th>\n",
              "      <th>pickup_longitude</th>\n",
              "      <th>pickup_latitude</th>\n",
              "      <th>dropoff_longitude</th>\n",
              "      <th>dropoff_latitude</th>\n",
              "      <th>passenger_count</th>\n",
              "      <th>abs_diff_longitude</th>\n",
              "      <th>abs_diff_latitude</th>\n",
              "      <th>folds</th>\n",
              "    </tr>\n",
              "  </thead>\n",
              "  <tbody>\n",
              "    <tr>\n",
              "      <th>0</th>\n",
              "      <td>4.5</td>\n",
              "      <td>2009-06-15 17:26:21</td>\n",
              "      <td>-73.844311</td>\n",
              "      <td>40.721319</td>\n",
              "      <td>-73.841610</td>\n",
              "      <td>40.712278</td>\n",
              "      <td>1</td>\n",
              "      <td>0.002701</td>\n",
              "      <td>0.009041</td>\n",
              "      <td>3</td>\n",
              "    </tr>\n",
              "    <tr>\n",
              "      <th>1</th>\n",
              "      <td>16.9</td>\n",
              "      <td>2010-01-05 16:52:16</td>\n",
              "      <td>-74.016048</td>\n",
              "      <td>40.711303</td>\n",
              "      <td>-73.979268</td>\n",
              "      <td>40.782004</td>\n",
              "      <td>1</td>\n",
              "      <td>0.036780</td>\n",
              "      <td>0.070701</td>\n",
              "      <td>0</td>\n",
              "    </tr>\n",
              "    <tr>\n",
              "      <th>2</th>\n",
              "      <td>5.7</td>\n",
              "      <td>2011-08-18 00:35:00</td>\n",
              "      <td>-73.982738</td>\n",
              "      <td>40.761270</td>\n",
              "      <td>-73.991242</td>\n",
              "      <td>40.750562</td>\n",
              "      <td>2</td>\n",
              "      <td>0.008504</td>\n",
              "      <td>0.010708</td>\n",
              "      <td>3</td>\n",
              "    </tr>\n",
              "    <tr>\n",
              "      <th>3</th>\n",
              "      <td>7.7</td>\n",
              "      <td>2012-04-21 04:30:42</td>\n",
              "      <td>-73.987130</td>\n",
              "      <td>40.733143</td>\n",
              "      <td>-73.991567</td>\n",
              "      <td>40.758092</td>\n",
              "      <td>1</td>\n",
              "      <td>0.004437</td>\n",
              "      <td>0.024949</td>\n",
              "      <td>3</td>\n",
              "    </tr>\n",
              "    <tr>\n",
              "      <th>4</th>\n",
              "      <td>5.3</td>\n",
              "      <td>2010-03-09 07:51:00</td>\n",
              "      <td>-73.968095</td>\n",
              "      <td>40.768008</td>\n",
              "      <td>-73.956655</td>\n",
              "      <td>40.783762</td>\n",
              "      <td>1</td>\n",
              "      <td>0.011440</td>\n",
              "      <td>0.015754</td>\n",
              "      <td>1</td>\n",
              "    </tr>\n",
              "  </tbody>\n",
              "</table>\n",
              "</div>"
            ],
            "text/plain": [
              "   fare_amount     pickup_datetime  ...  abs_diff_latitude  folds\n",
              "0          4.5 2009-06-15 17:26:21  ...           0.009041      3\n",
              "1         16.9 2010-01-05 16:52:16  ...           0.070701      0\n",
              "2          5.7 2011-08-18 00:35:00  ...           0.010708      3\n",
              "3          7.7 2012-04-21 04:30:42  ...           0.024949      3\n",
              "4          5.3 2010-03-09 07:51:00  ...           0.015754      1\n",
              "\n",
              "[5 rows x 10 columns]"
            ]
          },
          "metadata": {
            "tags": []
          },
          "execution_count": 192
        }
      ]
    },
    {
      "cell_type": "code",
      "metadata": {
        "id": "-EKQIu6enS19",
        "colab_type": "code",
        "colab": {}
      },
      "source": [
        ""
      ],
      "execution_count": 0,
      "outputs": []
    },
    {
      "cell_type": "markdown",
      "metadata": {
        "id": "urDuREWxK_ro",
        "colab_type": "text"
      },
      "source": [
        "<font color='red'> **(b)** Based on above results train the `DecisionTreeRegressor` on the entire training data with new, more optimal number of trees. Predict the test set and submit the results to Kaggle. Your leaderboard score should be smaller than 4.02083 (1 point) </font>"
      ]
    },
    {
      "cell_type": "code",
      "metadata": {
        "id": "3OfvpyJKIN_j",
        "colab_type": "code",
        "colab": {
          "base_uri": "https://localhost:8080/",
          "height": 151
        },
        "outputId": "90827dee-592c-4088-9956-e619ca2f6704"
      },
      "source": [
        "##### YOUR CODE STARTS #####\n",
        "dtr=DecisionTreeRegressor(max_depth = 9) \n",
        "dtr.fit(train[['abs_diff_longitude', 'abs_diff_latitude']], train[['fare_amount']])\n",
        "test_y_predictions = dtr.predict(test_df[['abs_diff_longitude', 'abs_diff_latitude']])\n",
        "# Write the predictions to a CSV file which we can submit to the competition.\n",
        "submission = pd.DataFrame(\n",
        "    {'key': test_df.key, 'fare_amount': test_y_predictions},\n",
        "    columns = ['key', 'fare_amount'])\n",
        "submission.to_csv('submission_dt.csv', index = False)\n",
        "\n",
        "!ls\n",
        "\n",
        "!kaggle competitions submit -c new-york-city-taxi-fare-prediction -f submission_dt.csv -m \"Decision Tree Regressor max_depth = 9\"\n",
        "##### YOUR CODE ENDS ##### (please do not delete this line)\n"
      ],
      "execution_count": 206,
      "outputs": [
        {
          "output_type": "stream",
          "text": [
            "adc.json\t\t  nyc_data.zip\t\t   submission_lr_2d.csv\n",
            "linear_regression.pickle  sample_data\t\t   submission_lr_3d.csv\n",
            "__MACOSX\t\t  sample_submission.csv    test.csv\n",
            "MNIST_data\t\t  submission_baseline.csv  train_2M.csv\n",
            "model.pickle\t\t  submission_dt.csv\n",
            "Warning: Looks like you're using an outdated API Version, please consider updating (server 1.5.6 / client 1.5.4)\n",
            "100% 454k/454k [00:03<00:00, 146kB/s]\n",
            "Successfully submitted to New York City Taxi Fare Prediction"
          ],
          "name": "stdout"
        }
      ]
    },
    {
      "cell_type": "markdown",
      "metadata": {
        "id": "sMmhuxN4iw2L",
        "colab_type": "text"
      },
      "source": [
        "# Bonus exercises\n",
        "*(NB, these are optional exercises!)*\n",
        "\n",
        "## Bonus exercise 1 (2 bonus points):\n",
        "\n",
        "<font color='red'> Visualising misclassified examples can help to debug the classification algorithm. But misclassified examples may have different probabilities. In this bonus exercise (optional) try modifying code we have written for the homework exercise 2 so that title now would include probability of a true class and of a wrong class. You would probably need to change the code of `classify_knn` function. </font> "
      ]
    },
    {
      "cell_type": "code",
      "metadata": {
        "id": "BnVONL6NUpiX",
        "colab_type": "code",
        "colab": {}
      },
      "source": [
        "classified = np.where(test_predicted == test_labels)[0]\n",
        "missclassified = np.where(test_predicted != test_labels)[0]"
      ],
      "execution_count": 0,
      "outputs": []
    },
    {
      "cell_type": "code",
      "metadata": {
        "id": "Qx8bwqfTV9tD",
        "colab_type": "code",
        "colab": {
          "base_uri": "https://localhost:8080/",
          "height": 1000
        },
        "outputId": "b9dc857c-d972-4f0f-8f66-8c78e644d92d"
      },
      "source": [
        "plt.rcParams['figure.figsize'] = (22.0, 20.0) # set default size of plots\n",
        "# \"Names\" of classes:\n",
        "classes =  ['0', '1', '2', '3', '4', '5', '6', '7', '8', '9']\n",
        "num_classes = len(classes)\n",
        "samples_per_class = 10 # Number of images from each class we want to see\n",
        "    ##### YOUR CODE STARTS #####\n",
        "error_test_labels = test_labels[missclassified]\n",
        "\n",
        "for y, cls in enumerate(classes):\n",
        "    errror_idxs = np.intersect1d(np.flatnonzero(test_labels == y ), missclassified)\n",
        "    correct_idxs = np.intersect1d(np.flatnonzero(test_labels == y ), classified)\n",
        "    true_prob = round(len(correct_idxs)/(len(correct_idxs)+len(errror_idxs)),2)\n",
        "    false_prob = round(len(errror_idxs)/(len(correct_idxs)+len(errror_idxs)),2)\n",
        "    print(f'Class {y}: True Probability is: {true_prob} False Probability is: {false_prob}')\n",
        "    errror_idxs = np.random.choice(errror_idxs, min(len(errror_idxs),samples_per_class), replace=False)\n",
        "    for i, idx in enumerate(errror_idxs):\n",
        "        plt_idx = i * num_classes + y + 1\n",
        "        plt.subplot(samples_per_class, num_classes, plt_idx)\n",
        "        plt.imshow(test_images[idx].reshape((28, 28)), plt.get_cmap('gray'))\n",
        "        plt.axis('off')\n",
        "        plt.title(f'Predicted: {test_predicted[idx]}')\n",
        "        if i == 0:\n",
        "            plt.title(f'T_Pr: {true_prob} F_Pr: {false_prob}')\n",
        "            ##### YOUR CODE ENDS ##### (please do not delete this line)\n",
        "plt.show()"
      ],
      "execution_count": 46,
      "outputs": [
        {
          "output_type": "stream",
          "text": [
            "Class 0: True Probability is: 0.99 False Probability is: 0.01\n",
            "Class 1: True Probability is: 1.0 False Probability is: 0.0\n",
            "Class 2: True Probability is: 0.81 False Probability is: 0.19\n",
            "Class 3: True Probability is: 0.82 False Probability is: 0.18\n",
            "Class 4: True Probability is: 0.73 False Probability is: 0.27\n",
            "Class 5: True Probability is: 0.79 False Probability is: 0.21\n",
            "Class 6: True Probability is: 0.98 False Probability is: 0.02\n",
            "Class 7: True Probability is: 0.92 False Probability is: 0.08\n",
            "Class 8: True Probability is: 0.68 False Probability is: 0.32\n",
            "Class 9: True Probability is: 0.87 False Probability is: 0.13\n"
          ],
          "name": "stdout"
        },
        {
          "output_type": "display_data",
          "data": {
            "image/png": "[encoded data removed]",
            "text/plain": [
              "<Figure size 1584x1440 with 71 Axes>"
            ]
          },
          "metadata": {
            "tags": []
          }
        }
      ]
    },
    {
      "cell_type": "markdown",
      "metadata": {
        "id": "UkOtofaRjH8P",
        "colab_type": "text"
      },
      "source": [
        "## Bonus exercise 2 (up to 3 bonus points): the grand challenge\n",
        "<font color='red'> Try to get into top 300 places on public leaderboard (RMSE < 3.04) using different ML algorithms with different parameters, more features, more data, better preprocessing. Here are some ideas for improvement:\n",
        "* Use more data (we only took 1M out of 2M, there are 53M more on the website)\n",
        "* Do more preprocessing (remember negative prices or unrealistic numbers of passengers?)\n",
        "* Use more/better features (e.g. euclidean distance, or google what is haversine distance)\n",
        "* Use some other regression algorithm (e.g. look into RandomForestRegressor from sklearn.ensemble)\n",
        "* Tune parameters of these algorithms\n",
        "* Try something else!\n",
        "</font> \n",
        "\n",
        "<font color='red'>You should make a small post here with code and elaborate explanations of what you have tried (do it even you did not manage to break into top 300). Number of points would depend on quality of your explanations and the resulting rank.</font> \n"
      ]
    },
    {
      "cell_type": "code",
      "metadata": {
        "id": "d2T2eINijEhg",
        "colab_type": "code",
        "colab": {}
      },
      "source": [
        "# Hint:\n",
        "R = 6378\n",
        "\n",
        "def haversine_distance(lon1, lon2, lat1, lat2):\n",
        "    \"\"\"\n",
        "    Calculate the great circle distance between two points\n",
        "    on the earth (specified in decimal degrees)\n",
        "\n",
        "    All args must be of equal length.    \n",
        "    \n",
        "    source: https://stackoverflow.com/a/29546836\n",
        "\n",
        "    \"\"\"\n",
        "    # Convert latitude and longitude to radians\n",
        "    lon1, lat1, lon2, lat2 = map(np.radians, [lon1, lat1, lon2, lat2])\n",
        "\n",
        "    # Find the differences\n",
        "    dlon = lon2 - lon1\n",
        "    dlat = lat2 - lat1\n",
        "\n",
        "    # Apply the formula \n",
        "    a = np.sin(dlat/2.0)**2 + np.cos(lat1) * np.cos(lat2) * np.sin(dlon/2.0)**2\n",
        "    # Calculate the angle (in radians)\n",
        "    c = 2 * np.arcsin(np.sqrt(a))\n",
        "    # Convert to kilometers\n",
        "    km = R * c\n",
        "    \n",
        "    return km"
      ],
      "execution_count": 0,
      "outputs": []
    }
  ]
}